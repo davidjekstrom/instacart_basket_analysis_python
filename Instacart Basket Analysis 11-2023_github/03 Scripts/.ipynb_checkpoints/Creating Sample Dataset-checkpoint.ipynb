{
 "cells": [
  {
   "cell_type": "markdown",
   "id": "efdba59b",
   "metadata": {},
   "source": [
    "# Creating sample of orders dataframe"
   ]
  },
  {
   "cell_type": "markdown",
   "id": "36f969dd",
   "metadata": {},
   "source": [
    "#### Import libraries"
   ]
  },
  {
   "cell_type": "code",
   "execution_count": 2,
   "id": "8a2cab86",
   "metadata": {},
   "outputs": [],
   "source": [
    "# Import libraries\n",
    "\n",
    "import pandas as pd\n",
    "import numpy as np\n",
    "import os"
   ]
  },
  {
   "cell_type": "markdown",
   "id": "e5b9f241",
   "metadata": {},
   "source": [
    "#### Import data"
   ]
  },
  {
   "cell_type": "code",
   "execution_count": 17,
   "id": "0867785a",
   "metadata": {},
   "outputs": [],
   "source": [
    "# declare path as variable\n",
    "\n",
    "path = r'/Users/dekstrom/Documents/Career Foundry/Instacart Basket Analysis 11-2023'"
   ]
  },
  {
   "cell_type": "code",
   "execution_count": 18,
   "id": "34ea4530",
   "metadata": {},
   "outputs": [],
   "source": [
    "# import orders_checked_1.csv as dataframe\n",
    "\n",
    "df_ords = pd.read_csv(os.path.join(path,'02 Data','Prepared Data','orders_checked_1.csv'), index_col = 0)"
   ]
  },
  {
   "cell_type": "code",
   "execution_count": 19,
   "id": "0692b1a4",
   "metadata": {},
   "outputs": [],
   "source": [
    "# create random sample of 30K observations from df_ords\n",
    "\n",
    "df_ords_sample = df_ords.sample(n=30000)"
   ]
  },
  {
   "cell_type": "code",
   "execution_count": 27,
   "id": "4450fcdb",
   "metadata": {},
   "outputs": [],
   "source": [
    "# reset index\n",
    "\n",
    "df_ords_sample = df_ords_sample.reset_index(drop=True)"
   ]
  },
  {
   "cell_type": "code",
   "execution_count": 29,
   "id": "00fe8621",
   "metadata": {},
   "outputs": [],
   "source": [
    "# export df_ords_sample to csv\n",
    "\n",
    "df_ords_sample.to_csv(os.path.join(path, '02 Data','Prepared Data', 'orders_checked_sample.csv'))"
   ]
  }
 ],
 "metadata": {
  "kernelspec": {
   "display_name": "Python 3 (ipykernel)",
   "language": "python",
   "name": "python3"
  },
  "language_info": {
   "codemirror_mode": {
    "name": "ipython",
    "version": 3
   },
   "file_extension": ".py",
   "mimetype": "text/x-python",
   "name": "python",
   "nbconvert_exporter": "python",
   "pygments_lexer": "ipython3",
   "version": "3.11.5"
  }
 },
 "nbformat": 4,
 "nbformat_minor": 5
}
