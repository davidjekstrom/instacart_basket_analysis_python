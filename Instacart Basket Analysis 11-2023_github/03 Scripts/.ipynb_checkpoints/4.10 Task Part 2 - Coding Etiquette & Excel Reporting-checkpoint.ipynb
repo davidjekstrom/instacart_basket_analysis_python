{
 "cells": [
  {
   "cell_type": "markdown",
   "id": "5806dea0",
   "metadata": {},
   "source": [
    "# 4.10 Task Part 2 - Coding Etiquette & Excel Reporting"
   ]
  },
  {
   "cell_type": "markdown",
   "id": "e59cc83e",
   "metadata": {},
   "source": [
    "### Contents list\n",
    "\n",
    "#### 1. Import libraries and data\n",
    "#### 2. Crosstabs in Python\n",
    "#### 3. Visualization work"
   ]
  },
  {
   "cell_type": "markdown",
   "id": "cdef80ab",
   "metadata": {},
   "source": [
    "#### 1. Import libraries and data"
   ]
  },
  {
   "cell_type": "code",
   "execution_count": 1,
   "id": "deddeac9",
   "metadata": {},
   "outputs": [],
   "source": [
    "# Import libraries\n",
    "\n",
    "import pandas as pd\n",
    "import numpy as np\n",
    "import os\n",
    "import matplotlib.pyplot as plt\n",
    "import seaborn as sns\n",
    "import scipy"
   ]
  },
  {
   "cell_type": "code",
   "execution_count": 2,
   "id": "8f76ad7b",
   "metadata": {},
   "outputs": [],
   "source": [
    "# declare path as variable\n",
    "\n",
    "path = r'/Users/dekstrom/Documents/Career Foundry/Instacart Basket Analysis 11-2023'"
   ]
  },
  {
   "cell_type": "code",
   "execution_count": 3,
   "id": "b3968fd9",
   "metadata": {},
   "outputs": [],
   "source": [
    "# import orders_products_all_normal.pkl\n",
    "\n",
    "df_normal = pd.read_pickle(os.path.join(path,'02 Data','Prepared Data','orders_products_all_normal.pkl'))"
   ]
  },
  {
   "cell_type": "code",
   "execution_count": 4,
   "id": "f286badd",
   "metadata": {},
   "outputs": [],
   "source": [
    "# import departments_wrangled.csv\n",
    "\n",
    "df_dept = pd.read_csv(os.path.join(path,'02 Data','Prepared Data','departments_wrangled.csv'))"
   ]
  },
  {
   "cell_type": "markdown",
   "id": "5956e776",
   "metadata": {},
   "source": [
    "#### 2. Crosstabs in Python"
   ]
  },
  {
   "cell_type": "code",
   "execution_count": 10,
   "id": "c8bd0b43",
   "metadata": {},
   "outputs": [],
   "source": [
    "# crosstab with days_since_prior_order and the order_number\n",
    "\n",
    "crosstab = pd.crosstab(df_all['days_since_prior_order'], df_all['order_number'], dropna = False)"
   ]
  },
  {
   "cell_type": "code",
   "execution_count": 12,
   "id": "f17b9b9f",
   "metadata": {},
   "outputs": [],
   "source": [
    "# copy to clipboard\n",
    "\n",
    "crosstab.to_clipboard()"
   ]
  },
  {
   "cell_type": "code",
   "execution_count": 21,
   "id": "ab4375a8",
   "metadata": {},
   "outputs": [
    {
     "data": {
      "text/plain": [
       "(2076185, 33)"
      ]
     },
     "execution_count": 21,
     "metadata": {},
     "output_type": "execute_result"
    }
   ],
   "source": [
    "df_all[df_all['days_since_prior_order'].isnull()].shape"
   ]
  },
  {
   "cell_type": "markdown",
   "id": "67a99fa2",
   "metadata": {},
   "source": [
    "#### 3. Visualization work"
   ]
  },
  {
   "cell_type": "code",
   "execution_count": 5,
   "id": "0e493b84",
   "metadata": {},
   "outputs": [],
   "source": [
    "# crosstab department_id & socioec_class on mean prices\n",
    "\n",
    "ct_price_dept_socio = pd.crosstab(df_normal['department_id'], df_normal['socioec_class'], values = df_normal['prices'], aggfunc = 'mean', dropna = False)"
   ]
  },
  {
   "cell_type": "code",
   "execution_count": 71,
   "id": "c3e2b455",
   "metadata": {},
   "outputs": [
    {
     "data": {
      "text/html": [
       "<div>\n",
       "<style scoped>\n",
       "    .dataframe tbody tr th:only-of-type {\n",
       "        vertical-align: middle;\n",
       "    }\n",
       "\n",
       "    .dataframe tbody tr th {\n",
       "        vertical-align: top;\n",
       "    }\n",
       "\n",
       "    .dataframe thead th {\n",
       "        text-align: right;\n",
       "    }\n",
       "</style>\n",
       "<table border=\"1\" class=\"dataframe\">\n",
       "  <thead>\n",
       "    <tr style=\"text-align: right;\">\n",
       "      <th>socioec_class</th>\n",
       "      <th>Lower</th>\n",
       "      <th>Lower middle</th>\n",
       "      <th>Middle</th>\n",
       "      <th>Upper</th>\n",
       "      <th>Upper middle</th>\n",
       "    </tr>\n",
       "    <tr>\n",
       "      <th>department_id</th>\n",
       "      <th></th>\n",
       "      <th></th>\n",
       "      <th></th>\n",
       "      <th></th>\n",
       "      <th></th>\n",
       "    </tr>\n",
       "  </thead>\n",
       "  <tbody>\n",
       "    <tr>\n",
       "      <th>1</th>\n",
       "      <td>6.782336</td>\n",
       "      <td>7.202623</td>\n",
       "      <td>7.805573</td>\n",
       "      <td>7.823677</td>\n",
       "      <td>7.824329</td>\n",
       "    </tr>\n",
       "    <tr>\n",
       "      <th>2</th>\n",
       "      <td>8.617808</td>\n",
       "      <td>6.239836</td>\n",
       "      <td>6.864534</td>\n",
       "      <td>7.465679</td>\n",
       "      <td>7.097766</td>\n",
       "    </tr>\n",
       "    <tr>\n",
       "      <th>3</th>\n",
       "      <td>7.030973</td>\n",
       "      <td>7.241008</td>\n",
       "      <td>7.940389</td>\n",
       "      <td>7.884775</td>\n",
       "      <td>7.972657</td>\n",
       "    </tr>\n",
       "    <tr>\n",
       "      <th>4</th>\n",
       "      <td>7.120696</td>\n",
       "      <td>7.350588</td>\n",
       "      <td>8.050863</td>\n",
       "      <td>8.084464</td>\n",
       "      <td>8.080144</td>\n",
       "    </tr>\n",
       "    <tr>\n",
       "      <th>5</th>\n",
       "      <td>7.706567</td>\n",
       "      <td>7.246940</td>\n",
       "      <td>8.276434</td>\n",
       "      <td>8.316388</td>\n",
       "      <td>8.334616</td>\n",
       "    </tr>\n",
       "    <tr>\n",
       "      <th>6</th>\n",
       "      <td>6.052677</td>\n",
       "      <td>7.225426</td>\n",
       "      <td>7.710011</td>\n",
       "      <td>7.768819</td>\n",
       "      <td>7.754510</td>\n",
       "    </tr>\n",
       "    <tr>\n",
       "      <th>7</th>\n",
       "      <td>6.486582</td>\n",
       "      <td>6.858206</td>\n",
       "      <td>7.828201</td>\n",
       "      <td>7.901587</td>\n",
       "      <td>7.890213</td>\n",
       "    </tr>\n",
       "    <tr>\n",
       "      <th>8</th>\n",
       "      <td>6.573563</td>\n",
       "      <td>7.189680</td>\n",
       "      <td>8.033979</td>\n",
       "      <td>7.996551</td>\n",
       "      <td>7.962047</td>\n",
       "    </tr>\n",
       "    <tr>\n",
       "      <th>9</th>\n",
       "      <td>6.909680</td>\n",
       "      <td>6.953612</td>\n",
       "      <td>7.384024</td>\n",
       "      <td>7.384685</td>\n",
       "      <td>7.413178</td>\n",
       "    </tr>\n",
       "    <tr>\n",
       "      <th>10</th>\n",
       "      <td>6.785185</td>\n",
       "      <td>7.699510</td>\n",
       "      <td>8.468983</td>\n",
       "      <td>8.524353</td>\n",
       "      <td>8.493977</td>\n",
       "    </tr>\n",
       "    <tr>\n",
       "      <th>11</th>\n",
       "      <td>7.202806</td>\n",
       "      <td>7.616435</td>\n",
       "      <td>8.008639</td>\n",
       "      <td>8.020416</td>\n",
       "      <td>8.108960</td>\n",
       "    </tr>\n",
       "    <tr>\n",
       "      <th>12</th>\n",
       "      <td>14.059381</td>\n",
       "      <td>15.717249</td>\n",
       "      <td>16.282051</td>\n",
       "      <td>16.417436</td>\n",
       "      <td>16.377646</td>\n",
       "    </tr>\n",
       "    <tr>\n",
       "      <th>13</th>\n",
       "      <td>7.210003</td>\n",
       "      <td>7.634415</td>\n",
       "      <td>8.054904</td>\n",
       "      <td>8.036947</td>\n",
       "      <td>8.089648</td>\n",
       "    </tr>\n",
       "    <tr>\n",
       "      <th>14</th>\n",
       "      <td>6.912779</td>\n",
       "      <td>7.321564</td>\n",
       "      <td>8.136959</td>\n",
       "      <td>8.242470</td>\n",
       "      <td>8.193257</td>\n",
       "    </tr>\n",
       "    <tr>\n",
       "      <th>15</th>\n",
       "      <td>7.018746</td>\n",
       "      <td>7.179627</td>\n",
       "      <td>7.601912</td>\n",
       "      <td>7.565714</td>\n",
       "      <td>7.595182</td>\n",
       "    </tr>\n",
       "    <tr>\n",
       "      <th>16</th>\n",
       "      <td>7.294211</td>\n",
       "      <td>7.511033</td>\n",
       "      <td>8.434972</td>\n",
       "      <td>8.443732</td>\n",
       "      <td>8.480525</td>\n",
       "    </tr>\n",
       "    <tr>\n",
       "      <th>17</th>\n",
       "      <td>7.280505</td>\n",
       "      <td>7.014604</td>\n",
       "      <td>7.409124</td>\n",
       "      <td>7.520065</td>\n",
       "      <td>7.451276</td>\n",
       "    </tr>\n",
       "    <tr>\n",
       "      <th>18</th>\n",
       "      <td>7.300731</td>\n",
       "      <td>7.253406</td>\n",
       "      <td>7.672517</td>\n",
       "      <td>7.620851</td>\n",
       "      <td>7.699688</td>\n",
       "    </tr>\n",
       "    <tr>\n",
       "      <th>19</th>\n",
       "      <td>4.193963</td>\n",
       "      <td>4.193716</td>\n",
       "      <td>4.299635</td>\n",
       "      <td>4.294817</td>\n",
       "      <td>4.305395</td>\n",
       "    </tr>\n",
       "    <tr>\n",
       "      <th>20</th>\n",
       "      <td>6.653522</td>\n",
       "      <td>7.042687</td>\n",
       "      <td>7.847774</td>\n",
       "      <td>7.903942</td>\n",
       "      <td>7.942761</td>\n",
       "    </tr>\n",
       "    <tr>\n",
       "      <th>21</th>\n",
       "      <td>7.321154</td>\n",
       "      <td>8.169118</td>\n",
       "      <td>8.735992</td>\n",
       "      <td>8.748661</td>\n",
       "      <td>8.741183</td>\n",
       "    </tr>\n",
       "  </tbody>\n",
       "</table>\n",
       "</div>"
      ],
      "text/plain": [
       "socioec_class      Lower  Lower middle     Middle      Upper  Upper middle\n",
       "department_id                                                             \n",
       "1               6.782336      7.202623   7.805573   7.823677      7.824329\n",
       "2               8.617808      6.239836   6.864534   7.465679      7.097766\n",
       "3               7.030973      7.241008   7.940389   7.884775      7.972657\n",
       "4               7.120696      7.350588   8.050863   8.084464      8.080144\n",
       "5               7.706567      7.246940   8.276434   8.316388      8.334616\n",
       "6               6.052677      7.225426   7.710011   7.768819      7.754510\n",
       "7               6.486582      6.858206   7.828201   7.901587      7.890213\n",
       "8               6.573563      7.189680   8.033979   7.996551      7.962047\n",
       "9               6.909680      6.953612   7.384024   7.384685      7.413178\n",
       "10              6.785185      7.699510   8.468983   8.524353      8.493977\n",
       "11              7.202806      7.616435   8.008639   8.020416      8.108960\n",
       "12             14.059381     15.717249  16.282051  16.417436     16.377646\n",
       "13              7.210003      7.634415   8.054904   8.036947      8.089648\n",
       "14              6.912779      7.321564   8.136959   8.242470      8.193257\n",
       "15              7.018746      7.179627   7.601912   7.565714      7.595182\n",
       "16              7.294211      7.511033   8.434972   8.443732      8.480525\n",
       "17              7.280505      7.014604   7.409124   7.520065      7.451276\n",
       "18              7.300731      7.253406   7.672517   7.620851      7.699688\n",
       "19              4.193963      4.193716   4.299635   4.294817      4.305395\n",
       "20              6.653522      7.042687   7.847774   7.903942      7.942761\n",
       "21              7.321154      8.169118   8.735992   8.748661      8.741183"
      ]
     },
     "execution_count": 71,
     "metadata": {},
     "output_type": "execute_result"
    }
   ],
   "source": [
    "# check output\n",
    "\n",
    "ct_price_dept_socio"
   ]
  },
  {
   "cell_type": "code",
   "execution_count": null,
   "id": "b24f5f8b",
   "metadata": {},
   "outputs": [],
   "source": []
  },
  {
   "cell_type": "code",
   "execution_count": 72,
   "id": "cc49ecd9",
   "metadata": {},
   "outputs": [
    {
     "name": "stderr",
     "output_type": "stream",
     "text": [
      "/Users/dekstrom/anaconda3/lib/python3.11/site-packages/seaborn/_oldcore.py:1498: FutureWarning: is_categorical_dtype is deprecated and will be removed in a future version. Use isinstance(dtype, CategoricalDtype) instead\n",
      "  if pd.api.types.is_categorical_dtype(vector):\n",
      "/Users/dekstrom/anaconda3/lib/python3.11/site-packages/seaborn/_oldcore.py:1498: FutureWarning: is_categorical_dtype is deprecated and will be removed in a future version. Use isinstance(dtype, CategoricalDtype) instead\n",
      "  if pd.api.types.is_categorical_dtype(vector):\n",
      "/Users/dekstrom/anaconda3/lib/python3.11/site-packages/seaborn/_oldcore.py:1498: FutureWarning: is_categorical_dtype is deprecated and will be removed in a future version. Use isinstance(dtype, CategoricalDtype) instead\n",
      "  if pd.api.types.is_categorical_dtype(vector):\n",
      "/Users/dekstrom/anaconda3/lib/python3.11/site-packages/seaborn/_oldcore.py:1498: FutureWarning: is_categorical_dtype is deprecated and will be removed in a future version. Use isinstance(dtype, CategoricalDtype) instead\n",
      "  if pd.api.types.is_categorical_dtype(vector):\n"
     ]
    },
    {
     "data": {
      "image/png": "[encoded data removed]",
      "text/plain": [
       "<Figure size 640x480 with 1 Axes>"
      ]
     },
     "metadata": {},
     "output_type": "display_data"
    }
   ],
   "source": [
    "# graph bar chart for ct_price_dept_socio\n",
    "\n",
    "bar_price_dept_socio = sns.barplot(data = ct_price_dept_socio.reset_index().melt(id_vars = 'department_id', var_name = 'socioec_class', value_name = 'mean_price'), x = 'department_id', y = 'mean_price', hue = 'socioec_class')"
   ]
  },
  {
   "cell_type": "code",
   "execution_count": 26,
   "id": "e57f23f6",
   "metadata": {},
   "outputs": [],
   "source": [
    "# export bar_price_dept_socio bar chart\n",
    "\n",
    "bar_price_dept_socio.figure.savefig(os.path.join(path, '04 Analysis','Visualizations', 'bar_price_dept_socio_4.10.png'), bbox_inches = 'tight')"
   ]
  },
  {
   "cell_type": "code",
   "execution_count": 27,
   "id": "890acfeb",
   "metadata": {},
   "outputs": [
    {
     "data": {
      "text/html": [
       "<div>\n",
       "<style scoped>\n",
       "    .dataframe tbody tr th:only-of-type {\n",
       "        vertical-align: middle;\n",
       "    }\n",
       "\n",
       "    .dataframe tbody tr th {\n",
       "        vertical-align: top;\n",
       "    }\n",
       "\n",
       "    .dataframe thead th {\n",
       "        text-align: right;\n",
       "    }\n",
       "</style>\n",
       "<table border=\"1\" class=\"dataframe\">\n",
       "  <thead>\n",
       "    <tr style=\"text-align: right;\">\n",
       "      <th></th>\n",
       "      <th>department_id</th>\n",
       "      <th>department</th>\n",
       "    </tr>\n",
       "  </thead>\n",
       "  <tbody>\n",
       "    <tr>\n",
       "      <th>1</th>\n",
       "      <td>2</td>\n",
       "      <td>other</td>\n",
       "    </tr>\n",
       "  </tbody>\n",
       "</table>\n",
       "</div>"
      ],
      "text/plain": [
       "   department_id department\n",
       "1              2      other"
      ]
     },
     "execution_count": 27,
     "metadata": {},
     "output_type": "execute_result"
    }
   ],
   "source": [
    "# check department_id 2\n",
    "\n",
    "df_dept[df_dept['department_id'] == 2]"
   ]
  },
  {
   "cell_type": "code",
   "execution_count": 29,
   "id": "b2595c8d",
   "metadata": {},
   "outputs": [
    {
     "data": {
      "text/html": [
       "<div>\n",
       "<style scoped>\n",
       "    .dataframe tbody tr th:only-of-type {\n",
       "        vertical-align: middle;\n",
       "    }\n",
       "\n",
       "    .dataframe tbody tr th {\n",
       "        vertical-align: top;\n",
       "    }\n",
       "\n",
       "    .dataframe thead th {\n",
       "        text-align: right;\n",
       "    }\n",
       "</style>\n",
       "<table border=\"1\" class=\"dataframe\">\n",
       "  <thead>\n",
       "    <tr style=\"text-align: right;\">\n",
       "      <th></th>\n",
       "      <th>department_id</th>\n",
       "      <th>department</th>\n",
       "    </tr>\n",
       "  </thead>\n",
       "  <tbody>\n",
       "    <tr>\n",
       "      <th>11</th>\n",
       "      <td>12</td>\n",
       "      <td>meat seafood</td>\n",
       "    </tr>\n",
       "  </tbody>\n",
       "</table>\n",
       "</div>"
      ],
      "text/plain": [
       "    department_id    department\n",
       "11             12  meat seafood"
      ]
     },
     "execution_count": 29,
     "metadata": {},
     "output_type": "execute_result"
    }
   ],
   "source": [
    "# check department_id 12\n",
    "\n",
    "df_dept[df_dept['department_id'] == 12]"
   ]
  },
  {
   "cell_type": "code",
   "execution_count": 30,
   "id": "0c69b4d2",
   "metadata": {},
   "outputs": [
    {
     "data": {
      "text/html": [
       "<div>\n",
       "<style scoped>\n",
       "    .dataframe tbody tr th:only-of-type {\n",
       "        vertical-align: middle;\n",
       "    }\n",
       "\n",
       "    .dataframe tbody tr th {\n",
       "        vertical-align: top;\n",
       "    }\n",
       "\n",
       "    .dataframe thead th {\n",
       "        text-align: right;\n",
       "    }\n",
       "</style>\n",
       "<table border=\"1\" class=\"dataframe\">\n",
       "  <thead>\n",
       "    <tr style=\"text-align: right;\">\n",
       "      <th></th>\n",
       "      <th>department_id</th>\n",
       "      <th>department</th>\n",
       "    </tr>\n",
       "  </thead>\n",
       "  <tbody>\n",
       "    <tr>\n",
       "      <th>18</th>\n",
       "      <td>19</td>\n",
       "      <td>snacks</td>\n",
       "    </tr>\n",
       "  </tbody>\n",
       "</table>\n",
       "</div>"
      ],
      "text/plain": [
       "    department_id department\n",
       "18             19     snacks"
      ]
     },
     "execution_count": 30,
     "metadata": {},
     "output_type": "execute_result"
    }
   ],
   "source": [
    "# check department_id 19\n",
    "\n",
    "df_dept[df_dept['department_id'] == 19]"
   ]
  },
  {
   "cell_type": "code",
   "execution_count": 34,
   "id": "7245b60b",
   "metadata": {},
   "outputs": [
    {
     "data": {
      "text/html": [
       "<div>\n",
       "<style scoped>\n",
       "    .dataframe tbody tr th:only-of-type {\n",
       "        vertical-align: middle;\n",
       "    }\n",
       "\n",
       "    .dataframe tbody tr th {\n",
       "        vertical-align: top;\n",
       "    }\n",
       "\n",
       "    .dataframe thead th {\n",
       "        text-align: right;\n",
       "    }\n",
       "</style>\n",
       "<table border=\"1\" class=\"dataframe\">\n",
       "  <thead>\n",
       "    <tr style=\"text-align: right;\">\n",
       "      <th></th>\n",
       "      <th>department_id</th>\n",
       "      <th>department</th>\n",
       "    </tr>\n",
       "  </thead>\n",
       "  <tbody>\n",
       "    <tr>\n",
       "      <th>5</th>\n",
       "      <td>6</td>\n",
       "      <td>international</td>\n",
       "    </tr>\n",
       "  </tbody>\n",
       "</table>\n",
       "</div>"
      ],
      "text/plain": [
       "   department_id     department\n",
       "5              6  international"
      ]
     },
     "execution_count": 34,
     "metadata": {},
     "output_type": "execute_result"
    }
   ],
   "source": [
    "# check department_id 6\n",
    "\n",
    "df_dept[df_dept['department_id'] == 6]"
   ]
  },
  {
   "cell_type": "code",
   "execution_count": 35,
   "id": "383e9e5b",
   "metadata": {},
   "outputs": [
    {
     "data": {
      "text/html": [
       "<div>\n",
       "<style scoped>\n",
       "    .dataframe tbody tr th:only-of-type {\n",
       "        vertical-align: middle;\n",
       "    }\n",
       "\n",
       "    .dataframe tbody tr th {\n",
       "        vertical-align: top;\n",
       "    }\n",
       "\n",
       "    .dataframe thead th {\n",
       "        text-align: right;\n",
       "    }\n",
       "</style>\n",
       "<table border=\"1\" class=\"dataframe\">\n",
       "  <thead>\n",
       "    <tr style=\"text-align: right;\">\n",
       "      <th></th>\n",
       "      <th>department_id</th>\n",
       "      <th>department</th>\n",
       "    </tr>\n",
       "  </thead>\n",
       "  <tbody>\n",
       "    <tr>\n",
       "      <th>6</th>\n",
       "      <td>7</td>\n",
       "      <td>beverages</td>\n",
       "    </tr>\n",
       "  </tbody>\n",
       "</table>\n",
       "</div>"
      ],
      "text/plain": [
       "   department_id department\n",
       "6              7  beverages"
      ]
     },
     "execution_count": 35,
     "metadata": {},
     "output_type": "execute_result"
    }
   ],
   "source": [
    "# check department_id 7\n",
    "\n",
    "df_dept[df_dept['department_id'] == 7]"
   ]
  },
  {
   "cell_type": "code",
   "execution_count": 36,
   "id": "7a90aedd",
   "metadata": {},
   "outputs": [
    {
     "data": {
      "text/html": [
       "<div>\n",
       "<style scoped>\n",
       "    .dataframe tbody tr th:only-of-type {\n",
       "        vertical-align: middle;\n",
       "    }\n",
       "\n",
       "    .dataframe tbody tr th {\n",
       "        vertical-align: top;\n",
       "    }\n",
       "\n",
       "    .dataframe thead th {\n",
       "        text-align: right;\n",
       "    }\n",
       "</style>\n",
       "<table border=\"1\" class=\"dataframe\">\n",
       "  <thead>\n",
       "    <tr style=\"text-align: right;\">\n",
       "      <th></th>\n",
       "      <th>department_id</th>\n",
       "      <th>department</th>\n",
       "    </tr>\n",
       "  </thead>\n",
       "  <tbody>\n",
       "    <tr>\n",
       "      <th>7</th>\n",
       "      <td>8</td>\n",
       "      <td>pets</td>\n",
       "    </tr>\n",
       "  </tbody>\n",
       "</table>\n",
       "</div>"
      ],
      "text/plain": [
       "   department_id department\n",
       "7              8       pets"
      ]
     },
     "execution_count": 36,
     "metadata": {},
     "output_type": "execute_result"
    }
   ],
   "source": [
    "# check department_id 8\n",
    "\n",
    "df_dept[df_dept['department_id'] == 8]"
   ]
  },
  {
   "cell_type": "code",
   "execution_count": 86,
   "id": "669fcc44",
   "metadata": {},
   "outputs": [],
   "source": [
    "# crosstab loyalty_flag & department_id\n",
    "\n",
    "ct_loyalty_dep = pd.crosstab(df_normal['department_id'], df_normal['loyalty_flag'], dropna = False)"
   ]
  },
  {
   "cell_type": "code",
   "execution_count": 87,
   "id": "75d29a56",
   "metadata": {},
   "outputs": [
    {
     "data": {
      "text/html": [
       "<div>\n",
       "<style scoped>\n",
       "    .dataframe tbody tr th:only-of-type {\n",
       "        vertical-align: middle;\n",
       "    }\n",
       "\n",
       "    .dataframe tbody tr th {\n",
       "        vertical-align: top;\n",
       "    }\n",
       "\n",
       "    .dataframe thead th {\n",
       "        text-align: right;\n",
       "    }\n",
       "</style>\n",
       "<table border=\"1\" class=\"dataframe\">\n",
       "  <thead>\n",
       "    <tr style=\"text-align: right;\">\n",
       "      <th>loyalty_flag</th>\n",
       "      <th>Loyal customer</th>\n",
       "      <th>New customer</th>\n",
       "      <th>Regular customer</th>\n",
       "    </tr>\n",
       "    <tr>\n",
       "      <th>department_id</th>\n",
       "      <th></th>\n",
       "      <th></th>\n",
       "      <th></th>\n",
       "    </tr>\n",
       "  </thead>\n",
       "  <tbody>\n",
       "    <tr>\n",
       "      <th>1</th>\n",
       "      <td>609460</td>\n",
       "      <td>372272</td>\n",
       "      <td>1140000</td>\n",
       "    </tr>\n",
       "    <tr>\n",
       "      <th>2</th>\n",
       "      <td>10715</td>\n",
       "      <td>5839</td>\n",
       "      <td>17857</td>\n",
       "    </tr>\n",
       "    <tr>\n",
       "      <th>3</th>\n",
       "      <td>379873</td>\n",
       "      <td>172104</td>\n",
       "      <td>568851</td>\n",
       "    </tr>\n",
       "    <tr>\n",
       "      <th>4</th>\n",
       "      <td>3147376</td>\n",
       "      <td>1336606</td>\n",
       "      <td>4595293</td>\n",
       "    </tr>\n",
       "    <tr>\n",
       "      <th>5</th>\n",
       "      <td>38723</td>\n",
       "      <td>28629</td>\n",
       "      <td>77275</td>\n",
       "    </tr>\n",
       "    <tr>\n",
       "      <th>6</th>\n",
       "      <td>78394</td>\n",
       "      <td>43841</td>\n",
       "      <td>133756</td>\n",
       "    </tr>\n",
       "    <tr>\n",
       "      <th>7</th>\n",
       "      <td>855598</td>\n",
       "      <td>396938</td>\n",
       "      <td>1321253</td>\n",
       "    </tr>\n",
       "    <tr>\n",
       "      <th>8</th>\n",
       "      <td>25469</td>\n",
       "      <td>15880</td>\n",
       "      <td>51711</td>\n",
       "    </tr>\n",
       "    <tr>\n",
       "      <th>9</th>\n",
       "      <td>242580</td>\n",
       "      <td>144836</td>\n",
       "      <td>434720</td>\n",
       "    </tr>\n",
       "    <tr>\n",
       "      <th>10</th>\n",
       "      <td>13834</td>\n",
       "      <td>4149</td>\n",
       "      <td>15468</td>\n",
       "    </tr>\n",
       "    <tr>\n",
       "      <th>11</th>\n",
       "      <td>123309</td>\n",
       "      <td>75338</td>\n",
       "      <td>225195</td>\n",
       "    </tr>\n",
       "    <tr>\n",
       "      <th>12</th>\n",
       "      <td>202480</td>\n",
       "      <td>112464</td>\n",
       "      <td>359837</td>\n",
       "    </tr>\n",
       "    <tr>\n",
       "      <th>13</th>\n",
       "      <td>560402</td>\n",
       "      <td>299576</td>\n",
       "      <td>922727</td>\n",
       "    </tr>\n",
       "    <tr>\n",
       "      <th>14</th>\n",
       "      <td>221577</td>\n",
       "      <td>106179</td>\n",
       "      <td>343094</td>\n",
       "    </tr>\n",
       "    <tr>\n",
       "      <th>15</th>\n",
       "      <td>294594</td>\n",
       "      <td>180196</td>\n",
       "      <td>537284</td>\n",
       "    </tr>\n",
       "    <tr>\n",
       "      <th>16</th>\n",
       "      <td>1830707</td>\n",
       "      <td>750057</td>\n",
       "      <td>2596419</td>\n",
       "    </tr>\n",
       "    <tr>\n",
       "      <th>17</th>\n",
       "      <td>196873</td>\n",
       "      <td>128118</td>\n",
       "      <td>374867</td>\n",
       "    </tr>\n",
       "    <tr>\n",
       "      <th>18</th>\n",
       "      <td>167108</td>\n",
       "      <td>46708</td>\n",
       "      <td>196576</td>\n",
       "    </tr>\n",
       "    <tr>\n",
       "      <th>19</th>\n",
       "      <td>943150</td>\n",
       "      <td>413107</td>\n",
       "      <td>1410149</td>\n",
       "    </tr>\n",
       "    <tr>\n",
       "      <th>20</th>\n",
       "      <td>324046</td>\n",
       "      <td>158335</td>\n",
       "      <td>521453</td>\n",
       "    </tr>\n",
       "    <tr>\n",
       "      <th>21</th>\n",
       "      <td>18350</td>\n",
       "      <td>12713</td>\n",
       "      <td>33705</td>\n",
       "    </tr>\n",
       "  </tbody>\n",
       "</table>\n",
       "</div>"
      ],
      "text/plain": [
       "loyalty_flag   Loyal customer  New customer  Regular customer\n",
       "department_id                                                \n",
       "1                      609460        372272           1140000\n",
       "2                       10715          5839             17857\n",
       "3                      379873        172104            568851\n",
       "4                     3147376       1336606           4595293\n",
       "5                       38723         28629             77275\n",
       "6                       78394         43841            133756\n",
       "7                      855598        396938           1321253\n",
       "8                       25469         15880             51711\n",
       "9                      242580        144836            434720\n",
       "10                      13834          4149             15468\n",
       "11                     123309         75338            225195\n",
       "12                     202480        112464            359837\n",
       "13                     560402        299576            922727\n",
       "14                     221577        106179            343094\n",
       "15                     294594        180196            537284\n",
       "16                    1830707        750057           2596419\n",
       "17                     196873        128118            374867\n",
       "18                     167108         46708            196576\n",
       "19                     943150        413107           1410149\n",
       "20                     324046        158335            521453\n",
       "21                      18350         12713             33705"
      ]
     },
     "execution_count": 87,
     "metadata": {},
     "output_type": "execute_result"
    }
   ],
   "source": [
    "# check output\n",
    "\n",
    "ct_loyalty_dep"
   ]
  },
  {
   "cell_type": "code",
   "execution_count": 88,
   "id": "e9d52b38",
   "metadata": {},
   "outputs": [
    {
     "name": "stderr",
     "output_type": "stream",
     "text": [
      "/Users/dekstrom/anaconda3/lib/python3.11/site-packages/seaborn/_oldcore.py:1498: FutureWarning: is_categorical_dtype is deprecated and will be removed in a future version. Use isinstance(dtype, CategoricalDtype) instead\n",
      "  if pd.api.types.is_categorical_dtype(vector):\n",
      "/Users/dekstrom/anaconda3/lib/python3.11/site-packages/seaborn/_oldcore.py:1498: FutureWarning: is_categorical_dtype is deprecated and will be removed in a future version. Use isinstance(dtype, CategoricalDtype) instead\n",
      "  if pd.api.types.is_categorical_dtype(vector):\n",
      "/Users/dekstrom/anaconda3/lib/python3.11/site-packages/seaborn/_oldcore.py:1498: FutureWarning: is_categorical_dtype is deprecated and will be removed in a future version. Use isinstance(dtype, CategoricalDtype) instead\n",
      "  if pd.api.types.is_categorical_dtype(vector):\n",
      "/Users/dekstrom/anaconda3/lib/python3.11/site-packages/seaborn/_oldcore.py:1498: FutureWarning: is_categorical_dtype is deprecated and will be removed in a future version. Use isinstance(dtype, CategoricalDtype) instead\n",
      "  if pd.api.types.is_categorical_dtype(vector):\n"
     ]
    },
    {
     "data": {
      "image/png": "[encoded data removed]",
      "text/plain": [
       "<Figure size 640x480 with 1 Axes>"
      ]
     },
     "metadata": {},
     "output_type": "display_data"
    }
   ],
   "source": [
    "# graph bar chart for ct_loyalty_dep\n",
    "\n",
    "bar_loyalty_dep = sns.barplot(data = ct_loyalty_dep.reset_index().melt(id_vars = 'department_id', var_name = 'loyalty_flag', value_name = 'orders'), x = 'department_id', y = 'orders', hue = 'loyalty_flag')"
   ]
  },
  {
   "cell_type": "code",
   "execution_count": 89,
   "id": "1d06b9db",
   "metadata": {},
   "outputs": [],
   "source": [
    "# export bar_loyalty_dep bar chart\n",
    "\n",
    "bar_loyalty_dep.figure.savefig(os.path.join(path, '04 Analysis','Visualizations', 'bar_loyalty_dep_4.10.png'), bbox_inches = 'tight')"
   ]
  },
  {
   "cell_type": "code",
   "execution_count": 58,
   "id": "0f37982f",
   "metadata": {},
   "outputs": [],
   "source": [
    "# create avgprice by loyalty_flag df\n",
    "\n",
    "df_avgprice_loyalty = df_normal['prices'].groupby(df_normal['loyalty_flag']).mean()"
   ]
  },
  {
   "cell_type": "code",
   "execution_count": 62,
   "id": "36be9d6b",
   "metadata": {},
   "outputs": [],
   "source": [
    "# create maxprice by loyalty_flag df\n",
    "\n",
    "df_maxprice_loyalty = df_normal['prices'].groupby(df_normal['loyalty_flag']).max()"
   ]
  },
  {
   "cell_type": "code",
   "execution_count": 59,
   "id": "4345c90f",
   "metadata": {},
   "outputs": [
    {
     "data": {
      "image/png": "[encoded data removed]",
      "text/plain": [
       "<Figure size 640x480 with 1 Axes>"
      ]
     },
     "metadata": {},
     "output_type": "display_data"
    }
   ],
   "source": [
    "# create bar chart for price by loyalty_flag\n",
    "\n",
    "bar_avgprice_loyalty = df_avgprice_loyalty.plot.bar(color =['red', 'green', 'blue'], title='Mean Price by Loyalty Type')"
   ]
  },
  {
   "cell_type": "code",
   "execution_count": 66,
   "id": "ac7edcea",
   "metadata": {},
   "outputs": [
    {
     "data": {
      "image/png": "[encoded data removed]",
      "text/plain": [
       "<Figure size 640x480 with 1 Axes>"
      ]
     },
     "metadata": {},
     "output_type": "display_data"
    }
   ],
   "source": [
    "# create bar chart for price by loyalty_flag\n",
    "\n",
    "bar_maxprice_loyalty = df_maxprice_loyalty.plot.bar(color =['red', 'green', 'blue'], title='Max Price by Loyalty Type')"
   ]
  },
  {
   "cell_type": "code",
   "execution_count": 67,
   "id": "b3481e75",
   "metadata": {},
   "outputs": [],
   "source": [
    "# export bar_maxprice_loyalty bar chart\n",
    "\n",
    "bar_maxprice_loyalty.figure.savefig(os.path.join(path, '04 Analysis','Visualizations', 'bar_maxprice_loyalty_4.10.png'), bbox_inches = 'tight')"
   ]
  },
  {
   "cell_type": "code",
   "execution_count": 65,
   "id": "2e77c9ff",
   "metadata": {},
   "outputs": [],
   "source": [
    "# export bar_avgprice_loyalty bar chart\n",
    "\n",
    "bar_avgprice_loyalty.figure.savefig(os.path.join(path, '04 Analysis','Visualizations', 'bar_avgprice_loyalty_4.10.png'), bbox_inches = 'tight')"
   ]
  },
  {
   "cell_type": "code",
   "execution_count": 90,
   "id": "6d4d77b0",
   "metadata": {},
   "outputs": [
    {
     "data": {
      "text/html": [
       "<div>\n",
       "<style scoped>\n",
       "    .dataframe tbody tr th:only-of-type {\n",
       "        vertical-align: middle;\n",
       "    }\n",
       "\n",
       "    .dataframe tbody tr th {\n",
       "        vertical-align: top;\n",
       "    }\n",
       "\n",
       "    .dataframe thead th {\n",
       "        text-align: right;\n",
       "    }\n",
       "</style>\n",
       "<table border=\"1\" class=\"dataframe\">\n",
       "  <thead>\n",
       "    <tr style=\"text-align: right;\">\n",
       "      <th></th>\n",
       "      <th>order_id</th>\n",
       "      <th>user_id</th>\n",
       "      <th>order_number</th>\n",
       "      <th>orders_day_of_week</th>\n",
       "      <th>order_hour_of_day</th>\n",
       "      <th>days_since_prior_order</th>\n",
       "      <th>first_order</th>\n",
       "      <th>product_id</th>\n",
       "      <th>add_to_cart_order</th>\n",
       "      <th>reordered</th>\n",
       "      <th>...</th>\n",
       "      <th>age</th>\n",
       "      <th>date_joined</th>\n",
       "      <th>num_of_dependants</th>\n",
       "      <th>fam_status</th>\n",
       "      <th>income</th>\n",
       "      <th>region</th>\n",
       "      <th>activity_level</th>\n",
       "      <th>age_group</th>\n",
       "      <th>household_status</th>\n",
       "      <th>socioec_class</th>\n",
       "    </tr>\n",
       "  </thead>\n",
       "  <tbody>\n",
       "    <tr>\n",
       "      <th>0</th>\n",
       "      <td>2539329</td>\n",
       "      <td>1</td>\n",
       "      <td>1</td>\n",
       "      <td>2</td>\n",
       "      <td>8</td>\n",
       "      <td>NaN</td>\n",
       "      <td>True</td>\n",
       "      <td>196</td>\n",
       "      <td>1</td>\n",
       "      <td>0</td>\n",
       "      <td>...</td>\n",
       "      <td>31</td>\n",
       "      <td>2/17/2019</td>\n",
       "      <td>3</td>\n",
       "      <td>married</td>\n",
       "      <td>40423</td>\n",
       "      <td>South</td>\n",
       "      <td>Normal-activity customer</td>\n",
       "      <td>Young adult</td>\n",
       "      <td>Married Parent</td>\n",
       "      <td>Lower middle</td>\n",
       "    </tr>\n",
       "    <tr>\n",
       "      <th>1</th>\n",
       "      <td>2398795</td>\n",
       "      <td>1</td>\n",
       "      <td>2</td>\n",
       "      <td>3</td>\n",
       "      <td>7</td>\n",
       "      <td>15.0</td>\n",
       "      <td>False</td>\n",
       "      <td>196</td>\n",
       "      <td>1</td>\n",
       "      <td>1</td>\n",
       "      <td>...</td>\n",
       "      <td>31</td>\n",
       "      <td>2/17/2019</td>\n",
       "      <td>3</td>\n",
       "      <td>married</td>\n",
       "      <td>40423</td>\n",
       "      <td>South</td>\n",
       "      <td>Normal-activity customer</td>\n",
       "      <td>Young adult</td>\n",
       "      <td>Married Parent</td>\n",
       "      <td>Lower middle</td>\n",
       "    </tr>\n",
       "    <tr>\n",
       "      <th>2</th>\n",
       "      <td>473747</td>\n",
       "      <td>1</td>\n",
       "      <td>3</td>\n",
       "      <td>3</td>\n",
       "      <td>12</td>\n",
       "      <td>21.0</td>\n",
       "      <td>False</td>\n",
       "      <td>196</td>\n",
       "      <td>1</td>\n",
       "      <td>1</td>\n",
       "      <td>...</td>\n",
       "      <td>31</td>\n",
       "      <td>2/17/2019</td>\n",
       "      <td>3</td>\n",
       "      <td>married</td>\n",
       "      <td>40423</td>\n",
       "      <td>South</td>\n",
       "      <td>Normal-activity customer</td>\n",
       "      <td>Young adult</td>\n",
       "      <td>Married Parent</td>\n",
       "      <td>Lower middle</td>\n",
       "    </tr>\n",
       "    <tr>\n",
       "      <th>3</th>\n",
       "      <td>2254736</td>\n",
       "      <td>1</td>\n",
       "      <td>4</td>\n",
       "      <td>4</td>\n",
       "      <td>7</td>\n",
       "      <td>29.0</td>\n",
       "      <td>False</td>\n",
       "      <td>196</td>\n",
       "      <td>1</td>\n",
       "      <td>1</td>\n",
       "      <td>...</td>\n",
       "      <td>31</td>\n",
       "      <td>2/17/2019</td>\n",
       "      <td>3</td>\n",
       "      <td>married</td>\n",
       "      <td>40423</td>\n",
       "      <td>South</td>\n",
       "      <td>Normal-activity customer</td>\n",
       "      <td>Young adult</td>\n",
       "      <td>Married Parent</td>\n",
       "      <td>Lower middle</td>\n",
       "    </tr>\n",
       "    <tr>\n",
       "      <th>4</th>\n",
       "      <td>431534</td>\n",
       "      <td>1</td>\n",
       "      <td>5</td>\n",
       "      <td>4</td>\n",
       "      <td>15</td>\n",
       "      <td>28.0</td>\n",
       "      <td>False</td>\n",
       "      <td>196</td>\n",
       "      <td>1</td>\n",
       "      <td>1</td>\n",
       "      <td>...</td>\n",
       "      <td>31</td>\n",
       "      <td>2/17/2019</td>\n",
       "      <td>3</td>\n",
       "      <td>married</td>\n",
       "      <td>40423</td>\n",
       "      <td>South</td>\n",
       "      <td>Normal-activity customer</td>\n",
       "      <td>Young adult</td>\n",
       "      <td>Married Parent</td>\n",
       "      <td>Lower middle</td>\n",
       "    </tr>\n",
       "  </tbody>\n",
       "</table>\n",
       "<p>5 rows × 38 columns</p>\n",
       "</div>"
      ],
      "text/plain": [
       "   order_id user_id  order_number  orders_day_of_week  order_hour_of_day  \\\n",
       "0   2539329       1             1                   2                  8   \n",
       "1   2398795       1             2                   3                  7   \n",
       "2    473747       1             3                   3                 12   \n",
       "3   2254736       1             4                   4                  7   \n",
       "4    431534       1             5                   4                 15   \n",
       "\n",
       "   days_since_prior_order  first_order  product_id  add_to_cart_order  \\\n",
       "0                     NaN         True         196                  1   \n",
       "1                    15.0        False         196                  1   \n",
       "2                    21.0        False         196                  1   \n",
       "3                    29.0        False         196                  1   \n",
       "4                    28.0        False         196                  1   \n",
       "\n",
       "   reordered  ... age  date_joined  num_of_dependants  fam_status income  \\\n",
       "0          0  ...  31    2/17/2019                  3     married  40423   \n",
       "1          1  ...  31    2/17/2019                  3     married  40423   \n",
       "2          1  ...  31    2/17/2019                  3     married  40423   \n",
       "3          1  ...  31    2/17/2019                  3     married  40423   \n",
       "4          1  ...  31    2/17/2019                  3     married  40423   \n",
       "\n",
       "  region            activity_level    age_group  household_status  \\\n",
       "0  South  Normal-activity customer  Young adult    Married Parent   \n",
       "1  South  Normal-activity customer  Young adult    Married Parent   \n",
       "2  South  Normal-activity customer  Young adult    Married Parent   \n",
       "3  South  Normal-activity customer  Young adult    Married Parent   \n",
       "4  South  Normal-activity customer  Young adult    Married Parent   \n",
       "\n",
       "  socioec_class  \n",
       "0  Lower middle  \n",
       "1  Lower middle  \n",
       "2  Lower middle  \n",
       "3  Lower middle  \n",
       "4  Lower middle  \n",
       "\n",
       "[5 rows x 38 columns]"
      ]
     },
     "execution_count": 90,
     "metadata": {},
     "output_type": "execute_result"
    }
   ],
   "source": [
    "df_normal.head()"
   ]
  },
  {
   "cell_type": "code",
   "execution_count": 6,
   "id": "2eaf6dc7",
   "metadata": {},
   "outputs": [
    {
     "data": {
      "text/plain": [
       "count    3.096599e+07\n",
       "mean     7.790328e+00\n",
       "std      4.240181e+00\n",
       "min      1.000000e+00\n",
       "25%      4.200000e+00\n",
       "50%      7.400000e+00\n",
       "75%      1.130000e+01\n",
       "max      2.500000e+01\n",
       "Name: prices, dtype: float64"
      ]
     },
     "execution_count": 6,
     "metadata": {},
     "output_type": "execute_result"
    }
   ],
   "source": [
    "# get statistics for prices columns\n",
    "\n",
    "df_normal['prices'].describe()"
   ]
  },
  {
   "cell_type": "code",
   "execution_count": 39,
   "id": "3e165a61",
   "metadata": {},
   "outputs": [
    {
     "name": "stderr",
     "output_type": "stream",
     "text": [
      "/var/folders/8w/2xbh8c1d2qnd_6yc30_xs1cw0000gp/T/ipykernel_8616/322979546.py:3: FutureWarning: Setting an item of incompatible dtype is deprecated and will raise in a future error of pandas. Value 'budget q1' has dtype incompatible with float64, please explicitly cast to a compatible dtype first.\n",
      "  df_normal.loc[df_normal['prices'] < df_normal['prices'].quantile(.25), 'price_tier'] = 'budget q1'\n"
     ]
    }
   ],
   "source": [
    "# create price category for budget items\n",
    "\n",
    "df_normal.loc[df_normal['prices'] < df_normal['prices'].quantile(.25), 'price_tier'] = 'budget q1'"
   ]
  },
  {
   "cell_type": "code",
   "execution_count": 40,
   "id": "d02b0008",
   "metadata": {},
   "outputs": [],
   "source": [
    "# create price category for affordable items\n",
    "\n",
    "df_normal.loc[(df_normal['prices'] >= df_normal['prices'].quantile(.25)) & (df_normal['prices'] < df_normal['prices'].quantile(.5)), 'price_tier'] = 'affordable q2'"
   ]
  },
  {
   "cell_type": "code",
   "execution_count": 41,
   "id": "f4637f24",
   "metadata": {},
   "outputs": [],
   "source": [
    "# create price category for mid-price items\n",
    "\n",
    "df_normal.loc[(df_normal['prices'] >= df_normal['prices'].quantile(.5)) & (df_normal['prices'] < df_normal['prices'].quantile(.75)), 'price_tier'] = 'moderate q3'"
   ]
  },
  {
   "cell_type": "code",
   "execution_count": 42,
   "id": "9bd0c061",
   "metadata": {},
   "outputs": [],
   "source": [
    "# create price category for expensive items\n",
    "\n",
    "df_normal.loc[df_normal['prices'] >= df_normal['prices'].quantile(.75), 'price_tier'] = 'premium q4'"
   ]
  },
  {
   "cell_type": "code",
   "execution_count": 20,
   "id": "caf2f210",
   "metadata": {},
   "outputs": [
    {
     "data": {
      "text/plain": [
       "price_tier\n",
       "affordable q2    7905263\n",
       "moderate q3      7777423\n",
       "premium q4       7742994\n",
       "budget q1        7540313\n",
       "Name: count, dtype: int64"
      ]
     },
     "execution_count": 20,
     "metadata": {},
     "output_type": "execute_result"
    }
   ],
   "source": [
    "# check output\n",
    "\n",
    "df_normal['price_tier'].value_counts()"
   ]
  },
  {
   "cell_type": "code",
   "execution_count": 21,
   "id": "d8cbb214",
   "metadata": {},
   "outputs": [
    {
     "data": {
      "text/html": [
       "<div>\n",
       "<style scoped>\n",
       "    .dataframe tbody tr th:only-of-type {\n",
       "        vertical-align: middle;\n",
       "    }\n",
       "\n",
       "    .dataframe tbody tr th {\n",
       "        vertical-align: top;\n",
       "    }\n",
       "\n",
       "    .dataframe thead th {\n",
       "        text-align: right;\n",
       "    }\n",
       "</style>\n",
       "<table border=\"1\" class=\"dataframe\">\n",
       "  <thead>\n",
       "    <tr style=\"text-align: right;\">\n",
       "      <th></th>\n",
       "      <th>order_id</th>\n",
       "      <th>user_id</th>\n",
       "      <th>order_number</th>\n",
       "      <th>orders_day_of_week</th>\n",
       "      <th>order_hour_of_day</th>\n",
       "      <th>days_since_prior_order</th>\n",
       "      <th>first_order</th>\n",
       "      <th>product_id</th>\n",
       "      <th>add_to_cart_order</th>\n",
       "      <th>reordered</th>\n",
       "      <th>...</th>\n",
       "      <th>date_joined</th>\n",
       "      <th>num_of_dependants</th>\n",
       "      <th>fam_status</th>\n",
       "      <th>income</th>\n",
       "      <th>region</th>\n",
       "      <th>activity_level</th>\n",
       "      <th>age_group</th>\n",
       "      <th>household_status</th>\n",
       "      <th>socioec_class</th>\n",
       "      <th>price_tier</th>\n",
       "    </tr>\n",
       "  </thead>\n",
       "  <tbody>\n",
       "    <tr>\n",
       "      <th>0</th>\n",
       "      <td>2539329</td>\n",
       "      <td>1</td>\n",
       "      <td>1</td>\n",
       "      <td>2</td>\n",
       "      <td>8</td>\n",
       "      <td>NaN</td>\n",
       "      <td>True</td>\n",
       "      <td>196</td>\n",
       "      <td>1</td>\n",
       "      <td>0</td>\n",
       "      <td>...</td>\n",
       "      <td>2/17/2019</td>\n",
       "      <td>3</td>\n",
       "      <td>married</td>\n",
       "      <td>40423</td>\n",
       "      <td>South</td>\n",
       "      <td>Normal-activity customer</td>\n",
       "      <td>Young adult</td>\n",
       "      <td>Married Parent</td>\n",
       "      <td>Lower middle</td>\n",
       "      <td>moderate q3</td>\n",
       "    </tr>\n",
       "    <tr>\n",
       "      <th>1</th>\n",
       "      <td>2398795</td>\n",
       "      <td>1</td>\n",
       "      <td>2</td>\n",
       "      <td>3</td>\n",
       "      <td>7</td>\n",
       "      <td>15.0</td>\n",
       "      <td>False</td>\n",
       "      <td>196</td>\n",
       "      <td>1</td>\n",
       "      <td>1</td>\n",
       "      <td>...</td>\n",
       "      <td>2/17/2019</td>\n",
       "      <td>3</td>\n",
       "      <td>married</td>\n",
       "      <td>40423</td>\n",
       "      <td>South</td>\n",
       "      <td>Normal-activity customer</td>\n",
       "      <td>Young adult</td>\n",
       "      <td>Married Parent</td>\n",
       "      <td>Lower middle</td>\n",
       "      <td>moderate q3</td>\n",
       "    </tr>\n",
       "    <tr>\n",
       "      <th>2</th>\n",
       "      <td>473747</td>\n",
       "      <td>1</td>\n",
       "      <td>3</td>\n",
       "      <td>3</td>\n",
       "      <td>12</td>\n",
       "      <td>21.0</td>\n",
       "      <td>False</td>\n",
       "      <td>196</td>\n",
       "      <td>1</td>\n",
       "      <td>1</td>\n",
       "      <td>...</td>\n",
       "      <td>2/17/2019</td>\n",
       "      <td>3</td>\n",
       "      <td>married</td>\n",
       "      <td>40423</td>\n",
       "      <td>South</td>\n",
       "      <td>Normal-activity customer</td>\n",
       "      <td>Young adult</td>\n",
       "      <td>Married Parent</td>\n",
       "      <td>Lower middle</td>\n",
       "      <td>moderate q3</td>\n",
       "    </tr>\n",
       "    <tr>\n",
       "      <th>3</th>\n",
       "      <td>2254736</td>\n",
       "      <td>1</td>\n",
       "      <td>4</td>\n",
       "      <td>4</td>\n",
       "      <td>7</td>\n",
       "      <td>29.0</td>\n",
       "      <td>False</td>\n",
       "      <td>196</td>\n",
       "      <td>1</td>\n",
       "      <td>1</td>\n",
       "      <td>...</td>\n",
       "      <td>2/17/2019</td>\n",
       "      <td>3</td>\n",
       "      <td>married</td>\n",
       "      <td>40423</td>\n",
       "      <td>South</td>\n",
       "      <td>Normal-activity customer</td>\n",
       "      <td>Young adult</td>\n",
       "      <td>Married Parent</td>\n",
       "      <td>Lower middle</td>\n",
       "      <td>moderate q3</td>\n",
       "    </tr>\n",
       "    <tr>\n",
       "      <th>4</th>\n",
       "      <td>431534</td>\n",
       "      <td>1</td>\n",
       "      <td>5</td>\n",
       "      <td>4</td>\n",
       "      <td>15</td>\n",
       "      <td>28.0</td>\n",
       "      <td>False</td>\n",
       "      <td>196</td>\n",
       "      <td>1</td>\n",
       "      <td>1</td>\n",
       "      <td>...</td>\n",
       "      <td>2/17/2019</td>\n",
       "      <td>3</td>\n",
       "      <td>married</td>\n",
       "      <td>40423</td>\n",
       "      <td>South</td>\n",
       "      <td>Normal-activity customer</td>\n",
       "      <td>Young adult</td>\n",
       "      <td>Married Parent</td>\n",
       "      <td>Lower middle</td>\n",
       "      <td>moderate q3</td>\n",
       "    </tr>\n",
       "  </tbody>\n",
       "</table>\n",
       "<p>5 rows × 39 columns</p>\n",
       "</div>"
      ],
      "text/plain": [
       "   order_id user_id  order_number  orders_day_of_week  order_hour_of_day  \\\n",
       "0   2539329       1             1                   2                  8   \n",
       "1   2398795       1             2                   3                  7   \n",
       "2    473747       1             3                   3                 12   \n",
       "3   2254736       1             4                   4                  7   \n",
       "4    431534       1             5                   4                 15   \n",
       "\n",
       "   days_since_prior_order  first_order  product_id  add_to_cart_order  \\\n",
       "0                     NaN         True         196                  1   \n",
       "1                    15.0        False         196                  1   \n",
       "2                    21.0        False         196                  1   \n",
       "3                    29.0        False         196                  1   \n",
       "4                    28.0        False         196                  1   \n",
       "\n",
       "   reordered  ... date_joined  num_of_dependants  fam_status  income region  \\\n",
       "0          0  ...   2/17/2019                  3     married   40423  South   \n",
       "1          1  ...   2/17/2019                  3     married   40423  South   \n",
       "2          1  ...   2/17/2019                  3     married   40423  South   \n",
       "3          1  ...   2/17/2019                  3     married   40423  South   \n",
       "4          1  ...   2/17/2019                  3     married   40423  South   \n",
       "\n",
       "             activity_level    age_group household_status  socioec_class  \\\n",
       "0  Normal-activity customer  Young adult   Married Parent   Lower middle   \n",
       "1  Normal-activity customer  Young adult   Married Parent   Lower middle   \n",
       "2  Normal-activity customer  Young adult   Married Parent   Lower middle   \n",
       "3  Normal-activity customer  Young adult   Married Parent   Lower middle   \n",
       "4  Normal-activity customer  Young adult   Married Parent   Lower middle   \n",
       "\n",
       "    price_tier  \n",
       "0  moderate q3  \n",
       "1  moderate q3  \n",
       "2  moderate q3  \n",
       "3  moderate q3  \n",
       "4  moderate q3  \n",
       "\n",
       "[5 rows x 39 columns]"
      ]
     },
     "execution_count": 21,
     "metadata": {},
     "output_type": "execute_result"
    }
   ],
   "source": [
    "# check df head\n",
    "\n",
    "df_normal.head()"
   ]
  },
  {
   "cell_type": "code",
   "execution_count": 24,
   "id": "7152c4b9",
   "metadata": {},
   "outputs": [
    {
     "data": {
      "image/png": "[encoded data removed]",
      "text/plain": [
       "<Figure size 640x480 with 1 Axes>"
      ]
     },
     "metadata": {},
     "output_type": "display_data"
    }
   ],
   "source": [
    "# create bar chart for orders by price_tier\n",
    "\n",
    "bar_orders_price_tier = df_normal['price_tier'].value_counts().plot.bar(color = ['red','orange', 'green', 'blue'], title = 'Orders by Price Tier', ylabel = 'Orders', rot = 0)"
   ]
  },
  {
   "cell_type": "code",
   "execution_count": 51,
   "id": "8b17b4f1",
   "metadata": {},
   "outputs": [
    {
     "data": {
      "image/png": "[encoded data removed]",
      "text/plain": [
       "<Figure size 640x480 with 1 Axes>"
      ]
     },
     "metadata": {},
     "output_type": "display_data"
    }
   ],
   "source": [
    "# create histogram for orders by price_tier\n",
    "\n",
    "hist_orders_prices = df_normal['prices'].plot.hist(bins = 10, title = 'Prices Frequency Distribution', ylabel = 'Orders', xlabel = 'Price')"
   ]
  },
  {
   "cell_type": "code",
   "execution_count": 26,
   "id": "e295a5e8",
   "metadata": {},
   "outputs": [],
   "source": [
    "# export bar_orders_price_tier bar chart\n",
    "\n",
    "bar_orders_price_tier.figure.savefig(os.path.join(path, '04 Analysis','Visualizations', 'bar_orders_price_tier_4.10.png'), bbox_inches = 'tight')"
   ]
  },
  {
   "cell_type": "code",
   "execution_count": 48,
   "id": "29a7f41b",
   "metadata": {},
   "outputs": [],
   "source": [
    "# export hist_orders_prices histogram\n",
    "\n",
    "hist_orders_prices.figure.savefig(os.path.join(path, '04 Analysis','Visualizations', 'hist_orders_prices_4.10.png'), bbox_inches = 'tight')"
   ]
  },
  {
   "cell_type": "code",
   "execution_count": 52,
   "id": "bc60e9ed",
   "metadata": {},
   "outputs": [
    {
     "data": {
      "text/plain": [
       "fam_status\n",
       "married                             21744625\n",
       "single                               5094716\n",
       "divorced/widowed                     2645359\n",
       "living with parents and siblings     1481293\n",
       "Name: count, dtype: int64"
      ]
     },
     "execution_count": 52,
     "metadata": {},
     "output_type": "execute_result"
    }
   ],
   "source": [
    "df_normal['fam_status'].value_counts()"
   ]
  },
  {
   "cell_type": "code",
   "execution_count": 57,
   "id": "1e882d93",
   "metadata": {},
   "outputs": [],
   "source": [
    "# crosstab with age and fam status on avg price\n",
    "\n",
    "ct_price_age_fam = pd.crosstab(df_normal['age'], df_normal['fam_status'], values = df_normal['prices'], aggfunc = 'mean', dropna = False)"
   ]
  },
  {
   "cell_type": "code",
   "execution_count": 62,
   "id": "6dc22ce6",
   "metadata": {},
   "outputs": [
    {
     "name": "stderr",
     "output_type": "stream",
     "text": [
      "/Users/dekstrom/anaconda3/lib/python3.11/site-packages/seaborn/_oldcore.py:1498: FutureWarning: is_categorical_dtype is deprecated and will be removed in a future version. Use isinstance(dtype, CategoricalDtype) instead\n",
      "  if pd.api.types.is_categorical_dtype(vector):\n",
      "/Users/dekstrom/anaconda3/lib/python3.11/site-packages/seaborn/_oldcore.py:1498: FutureWarning: is_categorical_dtype is deprecated and will be removed in a future version. Use isinstance(dtype, CategoricalDtype) instead\n",
      "  if pd.api.types.is_categorical_dtype(vector):\n",
      "/Users/dekstrom/anaconda3/lib/python3.11/site-packages/seaborn/_oldcore.py:1498: FutureWarning: is_categorical_dtype is deprecated and will be removed in a future version. Use isinstance(dtype, CategoricalDtype) instead\n",
      "  if pd.api.types.is_categorical_dtype(vector):\n",
      "/Users/dekstrom/anaconda3/lib/python3.11/site-packages/seaborn/_oldcore.py:1498: FutureWarning: is_categorical_dtype is deprecated and will be removed in a future version. Use isinstance(dtype, CategoricalDtype) instead\n",
      "  if pd.api.types.is_categorical_dtype(vector):\n",
      "/Users/dekstrom/anaconda3/lib/python3.11/site-packages/seaborn/_oldcore.py:1498: FutureWarning: is_categorical_dtype is deprecated and will be removed in a future version. Use isinstance(dtype, CategoricalDtype) instead\n",
      "  if pd.api.types.is_categorical_dtype(vector):\n",
      "/Users/dekstrom/anaconda3/lib/python3.11/site-packages/seaborn/_oldcore.py:1119: FutureWarning: use_inf_as_na option is deprecated and will be removed in a future version. Convert inf values to NaN before operating instead.\n",
      "  with pd.option_context('mode.use_inf_as_na', True):\n",
      "/Users/dekstrom/anaconda3/lib/python3.11/site-packages/seaborn/_oldcore.py:1119: FutureWarning: use_inf_as_na option is deprecated and will be removed in a future version. Convert inf values to NaN before operating instead.\n",
      "  with pd.option_context('mode.use_inf_as_na', True):\n"
     ]
    },
    {
     "data": {
      "image/png": "[encoded data removed]",
      "text/plain": [
       "<Figure size 640x480 with 1 Axes>"
      ]
     },
     "metadata": {},
     "output_type": "display_data"
    }
   ],
   "source": [
    "# graph line chart for ct_price_age_fam\n",
    "\n",
    "line_price_age_fam = sns.lineplot(data = ct_price_age_fam.reset_index().melt(id_vars = 'age', var_name = 'fam_status', value_name = 'mean_price'), x = 'age', y = 'mean_price', hue = 'fam_status')\n"
   ]
  },
  {
   "cell_type": "code",
   "execution_count": 63,
   "id": "9c19585b",
   "metadata": {},
   "outputs": [],
   "source": [
    "# export line_price_age_fam\n",
    "\n",
    "line_price_age_fam.figure.savefig(os.path.join(path, '04 Analysis','Visualizations', 'line_price_age_fam_4.10.png'), bbox_inches = 'tight')"
   ]
  },
  {
   "cell_type": "code",
   "execution_count": 65,
   "id": "41880725",
   "metadata": {},
   "outputs": [
    {
     "data": {
      "text/plain": [
       "order_freq_flag\n",
       "Frequent customer        21205164\n",
       "Regular customer          6865680\n",
       "Non-frequent customer     2895149\n",
       "Name: count, dtype: int64"
      ]
     },
     "execution_count": 65,
     "metadata": {},
     "output_type": "execute_result"
    }
   ],
   "source": [
    "# value count for order frequency flag\n",
    "\n",
    "df_normal['order_freq_flag'].value_counts()"
   ]
  },
  {
   "cell_type": "code",
   "execution_count": 69,
   "id": "158cdf5e",
   "metadata": {},
   "outputs": [],
   "source": [
    "# cross tab for socioec_class and order_freq_flag\n",
    "\n",
    "ct_socio_orderfreq = pd.crosstab(df_normal['socioec_class'], df_normal['order_freq_flag'], dropna = False)"
   ]
  },
  {
   "cell_type": "code",
   "execution_count": 77,
   "id": "6b1d9db5",
   "metadata": {},
   "outputs": [
    {
     "data": {
      "text/html": [
       "<div>\n",
       "<style scoped>\n",
       "    .dataframe tbody tr th:only-of-type {\n",
       "        vertical-align: middle;\n",
       "    }\n",
       "\n",
       "    .dataframe tbody tr th {\n",
       "        vertical-align: top;\n",
       "    }\n",
       "\n",
       "    .dataframe thead th {\n",
       "        text-align: right;\n",
       "    }\n",
       "</style>\n",
       "<table border=\"1\" class=\"dataframe\">\n",
       "  <thead>\n",
       "    <tr style=\"text-align: right;\">\n",
       "      <th>order_freq_flag</th>\n",
       "      <th>Frequent customer</th>\n",
       "      <th>Non-frequent customer</th>\n",
       "      <th>Regular customer</th>\n",
       "    </tr>\n",
       "    <tr>\n",
       "      <th>socioec_class</th>\n",
       "      <th></th>\n",
       "      <th></th>\n",
       "      <th></th>\n",
       "    </tr>\n",
       "  </thead>\n",
       "  <tbody>\n",
       "    <tr>\n",
       "      <th>Lower</th>\n",
       "      <td>35922</td>\n",
       "      <td>7478</td>\n",
       "      <td>17834</td>\n",
       "    </tr>\n",
       "    <tr>\n",
       "      <th>Lower middle</th>\n",
       "      <td>2905477</td>\n",
       "      <td>480788</td>\n",
       "      <td>1005145</td>\n",
       "    </tr>\n",
       "    <tr>\n",
       "      <th>Middle</th>\n",
       "      <td>5994592</td>\n",
       "      <td>790810</td>\n",
       "      <td>1897241</td>\n",
       "    </tr>\n",
       "    <tr>\n",
       "      <th>Upper</th>\n",
       "      <td>2700037</td>\n",
       "      <td>345303</td>\n",
       "      <td>850163</td>\n",
       "    </tr>\n",
       "    <tr>\n",
       "      <th>Upper middle</th>\n",
       "      <td>9569136</td>\n",
       "      <td>1270770</td>\n",
       "      <td>3095297</td>\n",
       "    </tr>\n",
       "  </tbody>\n",
       "</table>\n",
       "</div>"
      ],
      "text/plain": [
       "order_freq_flag  Frequent customer  Non-frequent customer  Regular customer\n",
       "socioec_class                                                              \n",
       "Lower                        35922                   7478             17834\n",
       "Lower middle               2905477                 480788           1005145\n",
       "Middle                     5994592                 790810           1897241\n",
       "Upper                      2700037                 345303            850163\n",
       "Upper middle               9569136                1270770           3095297"
      ]
     },
     "execution_count": 77,
     "metadata": {},
     "output_type": "execute_result"
    }
   ],
   "source": [
    "# check output\n",
    "\n",
    "ct_socio_orderfreq"
   ]
  },
  {
   "cell_type": "code",
   "execution_count": 76,
   "id": "b04788b1",
   "metadata": {},
   "outputs": [
    {
     "name": "stderr",
     "output_type": "stream",
     "text": [
      "/Users/dekstrom/anaconda3/lib/python3.11/site-packages/seaborn/_oldcore.py:1498: FutureWarning: is_categorical_dtype is deprecated and will be removed in a future version. Use isinstance(dtype, CategoricalDtype) instead\n",
      "  if pd.api.types.is_categorical_dtype(vector):\n",
      "/Users/dekstrom/anaconda3/lib/python3.11/site-packages/seaborn/_oldcore.py:1498: FutureWarning: is_categorical_dtype is deprecated and will be removed in a future version. Use isinstance(dtype, CategoricalDtype) instead\n",
      "  if pd.api.types.is_categorical_dtype(vector):\n",
      "/Users/dekstrom/anaconda3/lib/python3.11/site-packages/seaborn/_oldcore.py:1498: FutureWarning: is_categorical_dtype is deprecated and will be removed in a future version. Use isinstance(dtype, CategoricalDtype) instead\n",
      "  if pd.api.types.is_categorical_dtype(vector):\n",
      "/Users/dekstrom/anaconda3/lib/python3.11/site-packages/seaborn/_oldcore.py:1498: FutureWarning: is_categorical_dtype is deprecated and will be removed in a future version. Use isinstance(dtype, CategoricalDtype) instead\n",
      "  if pd.api.types.is_categorical_dtype(vector):\n"
     ]
    },
    {
     "data": {
      "image/png": "[encoded data removed]",
      "text/plain": [
       "<Figure size 640x480 with 1 Axes>"
      ]
     },
     "metadata": {},
     "output_type": "display_data"
    }
   ],
   "source": [
    "# graph bar chart for ct_socio_orderfreq\n",
    "\n",
    "bar_socio_orderfreq = sns.barplot(data = ct_socio_orderfreq.reset_index().melt(id_vars = 'socioec_class', var_name = 'order_freq_flag', value_name = 'orders'), x = 'socioec_class', y = 'orders', hue = 'order_freq_flag')"
   ]
  },
  {
   "cell_type": "code",
   "execution_count": 86,
   "id": "c6185644",
   "metadata": {},
   "outputs": [],
   "source": [
    "# export bar_socio_orderfreq\n",
    "\n",
    "bar_socio_orderfreq.figure.savefig(os.path.join(path, '04 Analysis','Visualizations', 'bar_socio_orderfreq_4.10.png'), bbox_inches = 'tight')"
   ]
  },
  {
   "cell_type": "code",
   "execution_count": 65,
   "id": "12b60482",
   "metadata": {},
   "outputs": [],
   "source": [
    "# merge on department id to get department\n",
    "\n",
    "df_merged = df_normal[['department_id']].merge(df_dept, on = 'department_id')"
   ]
  },
  {
   "cell_type": "code",
   "execution_count": 36,
   "id": "fd1784ed",
   "metadata": {},
   "outputs": [
    {
     "data": {
      "image/png": "[encoded data removed]",
      "text/plain": [
       "<Figure size 640x480 with 1 Axes>"
      ]
     },
     "metadata": {},
     "output_type": "display_data"
    }
   ],
   "source": [
    "# create a bar chart for orders by department\n",
    "\n",
    "bar_dept_orders = df_merged['department'].value_counts(ascending = True).plot.barh(title = 'Orders by Department', xlabel = 'Orders', ylabel = 'Departmnent')"
   ]
  },
  {
   "cell_type": "code",
   "execution_count": 37,
   "id": "96d9ace3",
   "metadata": {},
   "outputs": [],
   "source": [
    "# export bar_dept_orders\n",
    "\n",
    "bar_dept_orders.figure.savefig(os.path.join(path, '04 Analysis','Visualizations', 'bar_dept_orders_4.10.png'), bbox_inches = 'tight')"
   ]
  },
  {
   "cell_type": "code",
   "execution_count": 57,
   "id": "60861eec",
   "metadata": {},
   "outputs": [],
   "source": [
    "# create custom order for loyaly bar chart\n",
    "\n",
    "order = ['New customer', 'Regular customer', 'Loyal customer']"
   ]
  },
  {
   "cell_type": "code",
   "execution_count": 58,
   "id": "a512f534",
   "metadata": {},
   "outputs": [],
   "source": [
    "# reorder dataframe to be charted\n",
    "\n",
    "df_ordered = df_normal['loyalty_flag'].value_counts().reindex(order)"
   ]
  },
  {
   "cell_type": "code",
   "execution_count": 59,
   "id": "555da501",
   "metadata": {},
   "outputs": [
    {
     "data": {
      "image/png": "[encoded data removed]",
      "text/plain": [
       "<Figure size 640x480 with 1 Axes>"
      ]
     },
     "metadata": {},
     "output_type": "display_data"
    }
   ],
   "source": [
    "# create bar chart from loyalty_flag\n",
    "\n",
    "bar_loyalty = df_ordered.plot.bar(color =['red', 'green', 'blue'], title='Orders by Loyalty Type', rot = 0)"
   ]
  },
  {
   "cell_type": "code",
   "execution_count": 60,
   "id": "747244e2",
   "metadata": {},
   "outputs": [],
   "source": [
    "# export bar_loyalty\n",
    "\n",
    "bar_loyalty.figure.savefig(os.path.join(path, '04 Analysis','Visualizations', 'bar_loyalty_4.9.png'), bbox_inches = 'tight')"
   ]
  },
  {
   "cell_type": "code",
   "execution_count": 44,
   "id": "a87fe5ba",
   "metadata": {},
   "outputs": [
    {
     "data": {
      "text/html": [
       "<div>\n",
       "<style scoped>\n",
       "    .dataframe tbody tr th:only-of-type {\n",
       "        vertical-align: middle;\n",
       "    }\n",
       "\n",
       "    .dataframe tbody tr th {\n",
       "        vertical-align: top;\n",
       "    }\n",
       "\n",
       "    .dataframe thead th {\n",
       "        text-align: right;\n",
       "    }\n",
       "</style>\n",
       "<table border=\"1\" class=\"dataframe\">\n",
       "  <thead>\n",
       "    <tr style=\"text-align: right;\">\n",
       "      <th></th>\n",
       "      <th>order_id</th>\n",
       "      <th>user_id</th>\n",
       "      <th>order_number</th>\n",
       "      <th>orders_day_of_week</th>\n",
       "      <th>order_hour_of_day</th>\n",
       "      <th>days_since_prior_order</th>\n",
       "      <th>first_order</th>\n",
       "      <th>product_id</th>\n",
       "      <th>add_to_cart_order</th>\n",
       "      <th>reordered</th>\n",
       "      <th>...</th>\n",
       "      <th>date_joined</th>\n",
       "      <th>num_of_dependants</th>\n",
       "      <th>fam_status</th>\n",
       "      <th>income</th>\n",
       "      <th>region</th>\n",
       "      <th>activity_level</th>\n",
       "      <th>age_group</th>\n",
       "      <th>household_status</th>\n",
       "      <th>socioec_class</th>\n",
       "      <th>price_tier</th>\n",
       "    </tr>\n",
       "  </thead>\n",
       "  <tbody>\n",
       "    <tr>\n",
       "      <th>0</th>\n",
       "      <td>2539329</td>\n",
       "      <td>1</td>\n",
       "      <td>1</td>\n",
       "      <td>2</td>\n",
       "      <td>8</td>\n",
       "      <td>NaN</td>\n",
       "      <td>True</td>\n",
       "      <td>196</td>\n",
       "      <td>1</td>\n",
       "      <td>0</td>\n",
       "      <td>...</td>\n",
       "      <td>2/17/2019</td>\n",
       "      <td>3</td>\n",
       "      <td>married</td>\n",
       "      <td>40423</td>\n",
       "      <td>South</td>\n",
       "      <td>Normal-activity customer</td>\n",
       "      <td>Young adult</td>\n",
       "      <td>Married Parent</td>\n",
       "      <td>Lower middle</td>\n",
       "      <td>moderate q3</td>\n",
       "    </tr>\n",
       "    <tr>\n",
       "      <th>1</th>\n",
       "      <td>2398795</td>\n",
       "      <td>1</td>\n",
       "      <td>2</td>\n",
       "      <td>3</td>\n",
       "      <td>7</td>\n",
       "      <td>15.0</td>\n",
       "      <td>False</td>\n",
       "      <td>196</td>\n",
       "      <td>1</td>\n",
       "      <td>1</td>\n",
       "      <td>...</td>\n",
       "      <td>2/17/2019</td>\n",
       "      <td>3</td>\n",
       "      <td>married</td>\n",
       "      <td>40423</td>\n",
       "      <td>South</td>\n",
       "      <td>Normal-activity customer</td>\n",
       "      <td>Young adult</td>\n",
       "      <td>Married Parent</td>\n",
       "      <td>Lower middle</td>\n",
       "      <td>moderate q3</td>\n",
       "    </tr>\n",
       "    <tr>\n",
       "      <th>2</th>\n",
       "      <td>473747</td>\n",
       "      <td>1</td>\n",
       "      <td>3</td>\n",
       "      <td>3</td>\n",
       "      <td>12</td>\n",
       "      <td>21.0</td>\n",
       "      <td>False</td>\n",
       "      <td>196</td>\n",
       "      <td>1</td>\n",
       "      <td>1</td>\n",
       "      <td>...</td>\n",
       "      <td>2/17/2019</td>\n",
       "      <td>3</td>\n",
       "      <td>married</td>\n",
       "      <td>40423</td>\n",
       "      <td>South</td>\n",
       "      <td>Normal-activity customer</td>\n",
       "      <td>Young adult</td>\n",
       "      <td>Married Parent</td>\n",
       "      <td>Lower middle</td>\n",
       "      <td>moderate q3</td>\n",
       "    </tr>\n",
       "    <tr>\n",
       "      <th>3</th>\n",
       "      <td>2254736</td>\n",
       "      <td>1</td>\n",
       "      <td>4</td>\n",
       "      <td>4</td>\n",
       "      <td>7</td>\n",
       "      <td>29.0</td>\n",
       "      <td>False</td>\n",
       "      <td>196</td>\n",
       "      <td>1</td>\n",
       "      <td>1</td>\n",
       "      <td>...</td>\n",
       "      <td>2/17/2019</td>\n",
       "      <td>3</td>\n",
       "      <td>married</td>\n",
       "      <td>40423</td>\n",
       "      <td>South</td>\n",
       "      <td>Normal-activity customer</td>\n",
       "      <td>Young adult</td>\n",
       "      <td>Married Parent</td>\n",
       "      <td>Lower middle</td>\n",
       "      <td>moderate q3</td>\n",
       "    </tr>\n",
       "    <tr>\n",
       "      <th>4</th>\n",
       "      <td>431534</td>\n",
       "      <td>1</td>\n",
       "      <td>5</td>\n",
       "      <td>4</td>\n",
       "      <td>15</td>\n",
       "      <td>28.0</td>\n",
       "      <td>False</td>\n",
       "      <td>196</td>\n",
       "      <td>1</td>\n",
       "      <td>1</td>\n",
       "      <td>...</td>\n",
       "      <td>2/17/2019</td>\n",
       "      <td>3</td>\n",
       "      <td>married</td>\n",
       "      <td>40423</td>\n",
       "      <td>South</td>\n",
       "      <td>Normal-activity customer</td>\n",
       "      <td>Young adult</td>\n",
       "      <td>Married Parent</td>\n",
       "      <td>Lower middle</td>\n",
       "      <td>moderate q3</td>\n",
       "    </tr>\n",
       "  </tbody>\n",
       "</table>\n",
       "<p>5 rows × 39 columns</p>\n",
       "</div>"
      ],
      "text/plain": [
       "   order_id user_id  order_number  orders_day_of_week  order_hour_of_day  \\\n",
       "0   2539329       1             1                   2                  8   \n",
       "1   2398795       1             2                   3                  7   \n",
       "2    473747       1             3                   3                 12   \n",
       "3   2254736       1             4                   4                  7   \n",
       "4    431534       1             5                   4                 15   \n",
       "\n",
       "   days_since_prior_order  first_order  product_id  add_to_cart_order  \\\n",
       "0                     NaN         True         196                  1   \n",
       "1                    15.0        False         196                  1   \n",
       "2                    21.0        False         196                  1   \n",
       "3                    29.0        False         196                  1   \n",
       "4                    28.0        False         196                  1   \n",
       "\n",
       "   reordered  ... date_joined  num_of_dependants  fam_status  income region  \\\n",
       "0          0  ...   2/17/2019                  3     married   40423  South   \n",
       "1          1  ...   2/17/2019                  3     married   40423  South   \n",
       "2          1  ...   2/17/2019                  3     married   40423  South   \n",
       "3          1  ...   2/17/2019                  3     married   40423  South   \n",
       "4          1  ...   2/17/2019                  3     married   40423  South   \n",
       "\n",
       "             activity_level    age_group household_status  socioec_class  \\\n",
       "0  Normal-activity customer  Young adult   Married Parent   Lower middle   \n",
       "1  Normal-activity customer  Young adult   Married Parent   Lower middle   \n",
       "2  Normal-activity customer  Young adult   Married Parent   Lower middle   \n",
       "3  Normal-activity customer  Young adult   Married Parent   Lower middle   \n",
       "4  Normal-activity customer  Young adult   Married Parent   Lower middle   \n",
       "\n",
       "    price_tier  \n",
       "0  moderate q3  \n",
       "1  moderate q3  \n",
       "2  moderate q3  \n",
       "3  moderate q3  \n",
       "4  moderate q3  \n",
       "\n",
       "[5 rows x 39 columns]"
      ]
     },
     "execution_count": 44,
     "metadata": {},
     "output_type": "execute_result"
    }
   ],
   "source": [
    "# check output\n",
    "\n",
    "df_normal.head()"
   ]
  },
  {
   "cell_type": "code",
   "execution_count": 45,
   "id": "f37aac35",
   "metadata": {},
   "outputs": [
    {
     "data": {
      "text/plain": [
       "(30965993, 39)"
      ]
     },
     "execution_count": 45,
     "metadata": {},
     "output_type": "execute_result"
    }
   ],
   "source": [
    "# check shape\n",
    "\n",
    "df_normal.shape"
   ]
  },
  {
   "cell_type": "code",
   "execution_count": 46,
   "id": "ed1cbd18",
   "metadata": {},
   "outputs": [],
   "source": [
    "# export df_normal to pickle\n",
    "\n",
    "df_normal.to_pickle(os.path.join(path, '02 Data', 'Prepared Data', 'orders_products_all_normal.pkl'))"
   ]
  }
 ],
 "metadata": {
  "kernelspec": {
   "display_name": "Python 3 (ipykernel)",
   "language": "python",
   "name": "python3"
  },
  "language_info": {
   "codemirror_mode": {
    "name": "ipython",
    "version": 3
   },
   "file_extension": ".py",
   "mimetype": "text/x-python",
   "name": "python",
   "nbconvert_exporter": "python",
   "pygments_lexer": "ipython3",
   "version": "3.11.5"
  }
 },
 "nbformat": 4,
 "nbformat_minor": 5
}
