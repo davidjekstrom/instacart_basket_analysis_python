{
 "cells": [
  {
   "cell_type": "markdown",
   "id": "2535aa41",
   "metadata": {},
   "source": [
    "# 4.2 Task - Importing libraries and Python data types"
   ]
  },
  {
   "cell_type": "markdown",
   "id": "c7ee8902",
   "metadata": {},
   "source": [
    "### Contents list\n",
    "\n",
    "#### 1. Importing libraries\n",
    "#### 2. Data Types\n",
    "#### 3. Python Practice"
   ]
  },
  {
   "cell_type": "markdown",
   "id": "135ace29",
   "metadata": {},
   "source": [
    "#### 1. Importing libraries"
   ]
  },
  {
   "cell_type": "code",
   "execution_count": 1,
   "id": "5d583a3a",
   "metadata": {},
   "outputs": [],
   "source": [
    "# Import libraries\n",
    "import pandas as pd\n",
    "import numpy as np\n",
    "import os"
   ]
  },
  {
   "cell_type": "markdown",
   "id": "5e83a5a8",
   "metadata": {},
   "source": [
    "#### 2. Data types"
   ]
  },
  {
   "cell_type": "code",
   "execution_count": 23,
   "id": "d38f2569",
   "metadata": {},
   "outputs": [],
   "source": [
    "# Task 4.2 Question 7"
   ]
  },
  {
   "cell_type": "code",
   "execution_count": 24,
   "id": "c30cecd7",
   "metadata": {},
   "outputs": [
    {
     "data": {
      "text/plain": [
       "100"
      ]
     },
     "execution_count": 24,
     "metadata": {},
     "output_type": "execute_result"
    }
   ],
   "source": [
    "a = 25\n",
    "b = a * 4\n",
    "b"
   ]
  },
  {
   "cell_type": "code",
   "execution_count": 26,
   "id": "1470bf18",
   "metadata": {},
   "outputs": [
    {
     "data": {
      "text/plain": [
       "100"
      ]
     },
     "execution_count": 26,
     "metadata": {},
     "output_type": "execute_result"
    }
   ],
   "source": [
    "c = 200\n",
    "d = 100\n",
    "e = c - d\n",
    "e"
   ]
  },
  {
   "cell_type": "code",
   "execution_count": 28,
   "id": "0913b495",
   "metadata": {},
   "outputs": [
    {
     "data": {
      "text/plain": [
       "100"
      ]
     },
     "execution_count": 28,
     "metadata": {},
     "output_type": "execute_result"
    }
   ],
   "source": [
    "f = (8 * a) + b - c\n",
    "f"
   ]
  },
  {
   "cell_type": "markdown",
   "id": "ad3f0b21",
   "metadata": {},
   "source": [
    "#### 3. Python Practice\n"
   ]
  },
  {
   "cell_type": "code",
   "execution_count": 29,
   "id": "e24f715d",
   "metadata": {},
   "outputs": [],
   "source": [
    "# Task 4.2 Question 8"
   ]
  },
  {
   "cell_type": "code",
   "execution_count": 31,
   "id": "2a9dcf5d",
   "metadata": {},
   "outputs": [
    {
     "data": {
      "text/plain": [
       "2.5458589951377633"
      ]
     },
     "execution_count": 31,
     "metadata": {},
     "output_type": "execute_result"
    }
   ],
   "source": [
    "pi = 3.14159\n",
    "cake = 1.234\n",
    "cookie = pi / cake\n",
    "cookie"
   ]
  },
  {
   "cell_type": "code",
   "execution_count": 33,
   "id": "d8d81bcf",
   "metadata": {},
   "outputs": [],
   "source": [
    "# Task 4.2 Question 9"
   ]
  },
  {
   "cell_type": "code",
   "execution_count": 38,
   "id": "1f99a7f0",
   "metadata": {},
   "outputs": [
    {
     "name": "stdout",
     "output_type": "stream",
     "text": [
      "coding\n"
     ]
    }
   ],
   "source": [
    "suffix = 'ing'\n",
    "base_word = 'cod'\n",
    "final_word = base_word + suffix\n",
    "print(final_word)"
   ]
  },
  {
   "cell_type": "code",
   "execution_count": null,
   "id": "cf2e0378",
   "metadata": {},
   "outputs": [],
   "source": [
    "# Task 4.2 Question 10"
   ]
  },
  {
   "cell_type": "code",
   "execution_count": 49,
   "id": "343dfdf2",
   "metadata": {},
   "outputs": [
    {
     "name": "stdout",
     "output_type": "stream",
     "text": [
      "Howdy, Jason. I am enjoying Python!\n"
     ]
    }
   ],
   "source": [
    "a = 'How'\n",
    "b = ' '\n",
    "c = '!'\n",
    "d = 'son'\n",
    "e = 'dy'\n",
    "f = 'Ja'\n",
    "g = ','\n",
    "h = 'I'\n",
    "i = 'enjoying'\n",
    "j = 'Python'\n",
    "k = 'am'\n",
    "l = '.'\n",
    "greeting = a + e + g + b + f + d + l\n",
    "first_line = h + b + k + b + i + b + j + c\n",
    "message = greeting + b + first_line\n",
    "print(message)"
   ]
  },
  {
   "cell_type": "code",
   "execution_count": 50,
   "id": "e04af9e7",
   "metadata": {},
   "outputs": [],
   "source": [
    "# Bonus Task"
   ]
  },
  {
   "cell_type": "code",
   "execution_count": 52,
   "id": "7d856662",
   "metadata": {},
   "outputs": [
    {
     "name": "stdout",
     "output_type": "stream",
     "text": [
      "Howdy, Jason. I am enjoying Python!Howdy, Jason. I am enjoying Python!Howdy, Jason. I am enjoying Python!Howdy, Jason. I am enjoying Python!Howdy, Jason. I am enjoying Python!Howdy, Jason. I am enjoying Python!Howdy, Jason. I am enjoying Python!Howdy, Jason. I am enjoying Python!Howdy, Jason. I am enjoying Python!Howdy, Jason. I am enjoying Python!Howdy, Jason. I am enjoying Python!Howdy, Jason. I am enjoying Python!Howdy, Jason. I am enjoying Python!Howdy, Jason. I am enjoying Python!Howdy, Jason. I am enjoying Python!Howdy, Jason. I am enjoying Python!Howdy, Jason. I am enjoying Python!Howdy, Jason. I am enjoying Python!Howdy, Jason. I am enjoying Python!Howdy, Jason. I am enjoying Python!Howdy, Jason. I am enjoying Python!Howdy, Jason. I am enjoying Python!Howdy, Jason. I am enjoying Python!Howdy, Jason. I am enjoying Python!Howdy, Jason. I am enjoying Python!Howdy, Jason. I am enjoying Python!Howdy, Jason. I am enjoying Python!Howdy, Jason. I am enjoying Python!Howdy, Jason. I am enjoying Python!Howdy, Jason. I am enjoying Python!Howdy, Jason. I am enjoying Python!Howdy, Jason. I am enjoying Python!Howdy, Jason. I am enjoying Python!Howdy, Jason. I am enjoying Python!Howdy, Jason. I am enjoying Python!Howdy, Jason. I am enjoying Python!Howdy, Jason. I am enjoying Python!Howdy, Jason. I am enjoying Python!Howdy, Jason. I am enjoying Python!Howdy, Jason. I am enjoying Python!Howdy, Jason. I am enjoying Python!Howdy, Jason. I am enjoying Python!Howdy, Jason. I am enjoying Python!Howdy, Jason. I am enjoying Python!Howdy, Jason. I am enjoying Python!Howdy, Jason. I am enjoying Python!Howdy, Jason. I am enjoying Python!Howdy, Jason. I am enjoying Python!Howdy, Jason. I am enjoying Python!Howdy, Jason. I am enjoying Python!Howdy, Jason. I am enjoying Python!Howdy, Jason. I am enjoying Python!Howdy, Jason. I am enjoying Python!Howdy, Jason. I am enjoying Python!Howdy, Jason. I am enjoying Python!Howdy, Jason. I am enjoying Python!Howdy, Jason. I am enjoying Python!Howdy, Jason. I am enjoying Python!Howdy, Jason. I am enjoying Python!Howdy, Jason. I am enjoying Python!Howdy, Jason. I am enjoying Python!Howdy, Jason. I am enjoying Python!Howdy, Jason. I am enjoying Python!Howdy, Jason. I am enjoying Python!Howdy, Jason. I am enjoying Python!Howdy, Jason. I am enjoying Python!Howdy, Jason. I am enjoying Python!Howdy, Jason. I am enjoying Python!Howdy, Jason. I am enjoying Python!Howdy, Jason. I am enjoying Python!Howdy, Jason. I am enjoying Python!Howdy, Jason. I am enjoying Python!Howdy, Jason. I am enjoying Python!Howdy, Jason. I am enjoying Python!Howdy, Jason. I am enjoying Python!Howdy, Jason. I am enjoying Python!Howdy, Jason. I am enjoying Python!Howdy, Jason. I am enjoying Python!Howdy, Jason. I am enjoying Python!Howdy, Jason. I am enjoying Python!Howdy, Jason. I am enjoying Python!Howdy, Jason. I am enjoying Python!Howdy, Jason. I am enjoying Python!Howdy, Jason. I am enjoying Python!Howdy, Jason. I am enjoying Python!Howdy, Jason. I am enjoying Python!Howdy, Jason. I am enjoying Python!Howdy, Jason. I am enjoying Python!Howdy, Jason. I am enjoying Python!Howdy, Jason. I am enjoying Python!Howdy, Jason. I am enjoying Python!Howdy, Jason. I am enjoying Python!Howdy, Jason. I am enjoying Python!Howdy, Jason. I am enjoying Python!Howdy, Jason. I am enjoying Python!Howdy, Jason. I am enjoying Python!Howdy, Jason. I am enjoying Python!Howdy, Jason. I am enjoying Python!Howdy, Jason. I am enjoying Python!Howdy, Jason. I am enjoying Python!\n"
     ]
    }
   ],
   "source": [
    "print(message * 100)"
   ]
  },
  {
   "cell_type": "code",
   "execution_count": null,
   "id": "7283ba87",
   "metadata": {},
   "outputs": [],
   "source": [
    "# Task 4.2 Practice code from reading"
   ]
  },
  {
   "cell_type": "code",
   "execution_count": 2,
   "id": "99dda777",
   "metadata": {},
   "outputs": [],
   "source": [
    "x = 2"
   ]
  },
  {
   "cell_type": "code",
   "execution_count": 3,
   "id": "568b5d08",
   "metadata": {},
   "outputs": [
    {
     "data": {
      "text/plain": [
       "2"
      ]
     },
     "execution_count": 3,
     "metadata": {},
     "output_type": "execute_result"
    }
   ],
   "source": [
    "x"
   ]
  },
  {
   "cell_type": "code",
   "execution_count": 4,
   "id": "7c953aac",
   "metadata": {},
   "outputs": [
    {
     "name": "stdout",
     "output_type": "stream",
     "text": [
      "2\n"
     ]
    }
   ],
   "source": [
    "print(x)"
   ]
  },
  {
   "cell_type": "code",
   "execution_count": 5,
   "id": "c663e3f5",
   "metadata": {},
   "outputs": [
    {
     "data": {
      "text/plain": [
       "int"
      ]
     },
     "execution_count": 5,
     "metadata": {},
     "output_type": "execute_result"
    }
   ],
   "source": [
    "type(x)"
   ]
  },
  {
   "cell_type": "code",
   "execution_count": 6,
   "id": "86d519b4",
   "metadata": {},
   "outputs": [],
   "source": [
    "y = 5.678"
   ]
  },
  {
   "cell_type": "code",
   "execution_count": 7,
   "id": "d65a63b4",
   "metadata": {},
   "outputs": [
    {
     "data": {
      "text/plain": [
       "float"
      ]
     },
     "execution_count": 7,
     "metadata": {},
     "output_type": "execute_result"
    }
   ],
   "source": [
    "type(y)"
   ]
  },
  {
   "cell_type": "code",
   "execution_count": 8,
   "id": "b19d0be3",
   "metadata": {},
   "outputs": [],
   "source": [
    "z = 'Brazil'"
   ]
  },
  {
   "cell_type": "code",
   "execution_count": 9,
   "id": "ed452b5a",
   "metadata": {},
   "outputs": [
    {
     "data": {
      "text/plain": [
       "str"
      ]
     },
     "execution_count": 9,
     "metadata": {},
     "output_type": "execute_result"
    }
   ],
   "source": [
    "type(z)"
   ]
  },
  {
   "cell_type": "code",
   "execution_count": 10,
   "id": "3afa8590",
   "metadata": {},
   "outputs": [
    {
     "data": {
      "text/plain": [
       "str"
      ]
     },
     "execution_count": 10,
     "metadata": {},
     "output_type": "execute_result"
    }
   ],
   "source": [
    "type('Mania')"
   ]
  },
  {
   "cell_type": "code",
   "execution_count": 11,
   "id": "5463eada",
   "metadata": {},
   "outputs": [
    {
     "data": {
      "text/plain": [
       "bool"
      ]
     },
     "execution_count": 11,
     "metadata": {},
     "output_type": "execute_result"
    }
   ],
   "source": [
    "type(True)"
   ]
  },
  {
   "cell_type": "code",
   "execution_count": 12,
   "id": "8a8224ef",
   "metadata": {},
   "outputs": [
    {
     "data": {
      "text/plain": [
       "bool"
      ]
     },
     "execution_count": 12,
     "metadata": {},
     "output_type": "execute_result"
    }
   ],
   "source": [
    "type(False)"
   ]
  },
  {
   "cell_type": "code",
   "execution_count": 13,
   "id": "d5282cd3",
   "metadata": {},
   "outputs": [
    {
     "data": {
      "text/plain": [
       "8"
      ]
     },
     "execution_count": 13,
     "metadata": {},
     "output_type": "execute_result"
    }
   ],
   "source": [
    "x + 6"
   ]
  },
  {
   "cell_type": "code",
   "execution_count": 14,
   "id": "14635eec",
   "metadata": {},
   "outputs": [
    {
     "name": "stdout",
     "output_type": "stream",
     "text": [
      "2\n"
     ]
    }
   ],
   "source": [
    "print(x)"
   ]
  },
  {
   "cell_type": "code",
   "execution_count": 15,
   "id": "5768b871",
   "metadata": {},
   "outputs": [
    {
     "data": {
      "text/plain": [
       "7.678"
      ]
     },
     "execution_count": 15,
     "metadata": {},
     "output_type": "execute_result"
    }
   ],
   "source": [
    "x + y"
   ]
  },
  {
   "cell_type": "code",
   "execution_count": 16,
   "id": "07437d6b",
   "metadata": {},
   "outputs": [],
   "source": [
    "x = x + 4"
   ]
  },
  {
   "cell_type": "code",
   "execution_count": 17,
   "id": "a0d6080d",
   "metadata": {},
   "outputs": [
    {
     "name": "stdout",
     "output_type": "stream",
     "text": [
      "6\n"
     ]
    }
   ],
   "source": [
    "print(x)"
   ]
  },
  {
   "cell_type": "code",
   "execution_count": 18,
   "id": "a98e1c55",
   "metadata": {},
   "outputs": [
    {
     "ename": "NameError",
     "evalue": "name 'potato' is not defined",
     "output_type": "error",
     "traceback": [
      "\u001b[0;31m---------------------------------------------------------------------------\u001b[0m",
      "\u001b[0;31mNameError\u001b[0m                                 Traceback (most recent call last)",
      "Cell \u001b[0;32mIn[18], line 1\u001b[0m\n\u001b[0;32m----> 1\u001b[0m n \u001b[38;5;241m=\u001b[39m potato\n",
      "\u001b[0;31mNameError\u001b[0m: name 'potato' is not defined"
     ]
    }
   ],
   "source": [
    "n = potato"
   ]
  },
  {
   "cell_type": "code",
   "execution_count": 19,
   "id": "e2942f3c",
   "metadata": {},
   "outputs": [],
   "source": [
    "n = 'potato'"
   ]
  },
  {
   "cell_type": "code",
   "execution_count": 20,
   "id": "d1d81099",
   "metadata": {},
   "outputs": [
    {
     "data": {
      "text/plain": [
       "'potatopotatopotatopotatopotatopotatopotatopotatopotatopotatopotatopotato'"
      ]
     },
     "execution_count": 20,
     "metadata": {},
     "output_type": "execute_result"
    }
   ],
   "source": [
    "n * 12"
   ]
  },
  {
   "cell_type": "code",
   "execution_count": 21,
   "id": "84ee5b7c",
   "metadata": {},
   "outputs": [
    {
     "data": {
      "text/plain": [
       "False"
      ]
     },
     "execution_count": 21,
     "metadata": {},
     "output_type": "execute_result"
    }
   ],
   "source": [
    "x == y"
   ]
  },
  {
   "cell_type": "code",
   "execution_count": 22,
   "id": "c6a83306",
   "metadata": {},
   "outputs": [
    {
     "data": {
      "text/plain": [
       "bool"
      ]
     },
     "execution_count": 22,
     "metadata": {},
     "output_type": "execute_result"
    }
   ],
   "source": [
    "type(x == y)"
   ]
  },
  {
   "cell_type": "code",
   "execution_count": null,
   "id": "fdecc6ee",
   "metadata": {},
   "outputs": [],
   "source": []
  }
 ],
 "metadata": {
  "kernelspec": {
   "display_name": "Python 3 (ipykernel)",
   "language": "python",
   "name": "python3"
  },
  "language_info": {
   "codemirror_mode": {
    "name": "ipython",
    "version": 3
   },
   "file_extension": ".py",
   "mimetype": "text/x-python",
   "name": "python",
   "nbconvert_exporter": "python",
   "pygments_lexer": "ipython3",
   "version": "3.11.5"
  }
 },
 "nbformat": 4,
 "nbformat_minor": 5
}
